{
 "cells": [
  {
   "cell_type": "markdown",
   "id": "82301f3b",
   "metadata": {},
   "source": [
    "### Task 2: Experimentation and uplift testing\n",
    "\n",
    "Julia has asked us to evaluate the performance of a store trial which was performed in stores 77, 86 and 88.\n",
    "\n",
    "This can be broken down by:\n",
    "\n",
    "- total sales revenue\n",
    "- total number of customers\n",
    "- average number of transactions per customer\n",
    "\n",
    "Create a measure to compare different control stores to each of the trial stores to do this write a function to reduce having to re-do the analysis for each trial store. Consider using Pearson correlations or a metric such as a magnitude distance e.g. 1- (Observed distance – minimum distance)/(Maximum distance – minimum distance) as a measure.\n",
    "\n",
    "Once you have selected your control stores, compare each trial and control pair during the trial period. You want to test if total sales are significantly different in the trial period and if so, check if the driver of change is more purchasing customers or more purchases per customers etc."
   ]
  },
  {
   "cell_type": "code",
   "execution_count": 1,
   "id": "78a88860",
   "metadata": {},
   "outputs": [],
   "source": [
    "import pandas as pd\n",
    "import numpy as np\n",
    "import matplotlib.pyplot as plt\n",
    "import seaborn as sns"
   ]
  },
  {
   "cell_type": "code",
   "execution_count": 2,
   "id": "3fdd8d8e",
   "metadata": {},
   "outputs": [],
   "source": [
    "chip = pd.read_csv('QVI_data.csv')"
   ]
  },
  {
   "cell_type": "code",
   "execution_count": 3,
   "id": "da7b4ff6",
   "metadata": {},
   "outputs": [
    {
     "data": {
      "text/html": [
       "<div>\n",
       "<style scoped>\n",
       "    .dataframe tbody tr th:only-of-type {\n",
       "        vertical-align: middle;\n",
       "    }\n",
       "\n",
       "    .dataframe tbody tr th {\n",
       "        vertical-align: top;\n",
       "    }\n",
       "\n",
       "    .dataframe thead th {\n",
       "        text-align: right;\n",
       "    }\n",
       "</style>\n",
       "<table border=\"1\" class=\"dataframe\">\n",
       "  <thead>\n",
       "    <tr style=\"text-align: right;\">\n",
       "      <th></th>\n",
       "      <th>LYLTY_CARD_NBR</th>\n",
       "      <th>DATE</th>\n",
       "      <th>STORE_NBR</th>\n",
       "      <th>TXN_ID</th>\n",
       "      <th>PROD_NBR</th>\n",
       "      <th>PROD_NAME</th>\n",
       "      <th>PROD_QTY</th>\n",
       "      <th>TOT_SALES</th>\n",
       "      <th>PACK_SIZE</th>\n",
       "      <th>BRAND</th>\n",
       "      <th>LIFESTAGE</th>\n",
       "      <th>PREMIUM_CUSTOMER</th>\n",
       "    </tr>\n",
       "  </thead>\n",
       "  <tbody>\n",
       "    <tr>\n",
       "      <th>0</th>\n",
       "      <td>1000</td>\n",
       "      <td>2018-10-17</td>\n",
       "      <td>1</td>\n",
       "      <td>1</td>\n",
       "      <td>5</td>\n",
       "      <td>Natural Chip        Compny SeaSalt175g</td>\n",
       "      <td>2</td>\n",
       "      <td>6.0</td>\n",
       "      <td>175</td>\n",
       "      <td>NATURAL</td>\n",
       "      <td>YOUNG SINGLES/COUPLES</td>\n",
       "      <td>Premium</td>\n",
       "    </tr>\n",
       "    <tr>\n",
       "      <th>1</th>\n",
       "      <td>1002</td>\n",
       "      <td>2018-09-16</td>\n",
       "      <td>1</td>\n",
       "      <td>2</td>\n",
       "      <td>58</td>\n",
       "      <td>Red Rock Deli Chikn&amp;Garlic Aioli 150g</td>\n",
       "      <td>1</td>\n",
       "      <td>2.7</td>\n",
       "      <td>150</td>\n",
       "      <td>RRD</td>\n",
       "      <td>YOUNG SINGLES/COUPLES</td>\n",
       "      <td>Mainstream</td>\n",
       "    </tr>\n",
       "    <tr>\n",
       "      <th>2</th>\n",
       "      <td>1003</td>\n",
       "      <td>2019-03-07</td>\n",
       "      <td>1</td>\n",
       "      <td>3</td>\n",
       "      <td>52</td>\n",
       "      <td>Grain Waves Sour    Cream&amp;Chives 210G</td>\n",
       "      <td>1</td>\n",
       "      <td>3.6</td>\n",
       "      <td>210</td>\n",
       "      <td>GRNWVES</td>\n",
       "      <td>YOUNG FAMILIES</td>\n",
       "      <td>Budget</td>\n",
       "    </tr>\n",
       "    <tr>\n",
       "      <th>3</th>\n",
       "      <td>1003</td>\n",
       "      <td>2019-03-08</td>\n",
       "      <td>1</td>\n",
       "      <td>4</td>\n",
       "      <td>106</td>\n",
       "      <td>Natural ChipCo      Hony Soy Chckn175g</td>\n",
       "      <td>1</td>\n",
       "      <td>3.0</td>\n",
       "      <td>175</td>\n",
       "      <td>NATURAL</td>\n",
       "      <td>YOUNG FAMILIES</td>\n",
       "      <td>Budget</td>\n",
       "    </tr>\n",
       "    <tr>\n",
       "      <th>4</th>\n",
       "      <td>1004</td>\n",
       "      <td>2018-11-02</td>\n",
       "      <td>1</td>\n",
       "      <td>5</td>\n",
       "      <td>96</td>\n",
       "      <td>WW Original Stacked Chips 160g</td>\n",
       "      <td>1</td>\n",
       "      <td>1.9</td>\n",
       "      <td>160</td>\n",
       "      <td>WOOLWORTHS</td>\n",
       "      <td>OLDER SINGLES/COUPLES</td>\n",
       "      <td>Mainstream</td>\n",
       "    </tr>\n",
       "  </tbody>\n",
       "</table>\n",
       "</div>"
      ],
      "text/plain": [
       "   LYLTY_CARD_NBR        DATE  STORE_NBR  TXN_ID  PROD_NBR  \\\n",
       "0            1000  2018-10-17          1       1         5   \n",
       "1            1002  2018-09-16          1       2        58   \n",
       "2            1003  2019-03-07          1       3        52   \n",
       "3            1003  2019-03-08          1       4       106   \n",
       "4            1004  2018-11-02          1       5        96   \n",
       "\n",
       "                                PROD_NAME  PROD_QTY  TOT_SALES  PACK_SIZE  \\\n",
       "0  Natural Chip        Compny SeaSalt175g         2        6.0        175   \n",
       "1   Red Rock Deli Chikn&Garlic Aioli 150g         1        2.7        150   \n",
       "2   Grain Waves Sour    Cream&Chives 210G         1        3.6        210   \n",
       "3  Natural ChipCo      Hony Soy Chckn175g         1        3.0        175   \n",
       "4          WW Original Stacked Chips 160g         1        1.9        160   \n",
       "\n",
       "        BRAND              LIFESTAGE PREMIUM_CUSTOMER  \n",
       "0     NATURAL  YOUNG SINGLES/COUPLES          Premium  \n",
       "1         RRD  YOUNG SINGLES/COUPLES       Mainstream  \n",
       "2     GRNWVES         YOUNG FAMILIES           Budget  \n",
       "3     NATURAL         YOUNG FAMILIES           Budget  \n",
       "4  WOOLWORTHS  OLDER SINGLES/COUPLES       Mainstream  "
      ]
     },
     "execution_count": 3,
     "metadata": {},
     "output_type": "execute_result"
    }
   ],
   "source": [
    "chip.head()"
   ]
  },
  {
   "cell_type": "code",
   "execution_count": 4,
   "id": "0448a0ee",
   "metadata": {},
   "outputs": [
    {
     "name": "stdout",
     "output_type": "stream",
     "text": [
      "<class 'pandas.core.frame.DataFrame'>\n",
      "RangeIndex: 264834 entries, 0 to 264833\n",
      "Data columns (total 12 columns):\n",
      " #   Column            Non-Null Count   Dtype  \n",
      "---  ------            --------------   -----  \n",
      " 0   LYLTY_CARD_NBR    264834 non-null  int64  \n",
      " 1   DATE              264834 non-null  object \n",
      " 2   STORE_NBR         264834 non-null  int64  \n",
      " 3   TXN_ID            264834 non-null  int64  \n",
      " 4   PROD_NBR          264834 non-null  int64  \n",
      " 5   PROD_NAME         264834 non-null  object \n",
      " 6   PROD_QTY          264834 non-null  int64  \n",
      " 7   TOT_SALES         264834 non-null  float64\n",
      " 8   PACK_SIZE         264834 non-null  int64  \n",
      " 9   BRAND             264834 non-null  object \n",
      " 10  LIFESTAGE         264834 non-null  object \n",
      " 11  PREMIUM_CUSTOMER  264834 non-null  object \n",
      "dtypes: float64(1), int64(6), object(5)\n",
      "memory usage: 24.2+ MB\n"
     ]
    }
   ],
   "source": [
    "chip.info()"
   ]
  },
  {
   "cell_type": "code",
   "execution_count": 5,
   "id": "e211e3de",
   "metadata": {},
   "outputs": [
    {
     "data": {
      "text/plain": [
       "1"
      ]
     },
     "execution_count": 5,
     "metadata": {},
     "output_type": "execute_result"
    }
   ],
   "source": [
    "chip.duplicated().sum()"
   ]
  },
  {
   "cell_type": "code",
   "execution_count": 6,
   "id": "825cd8cb",
   "metadata": {},
   "outputs": [],
   "source": [
    "chip = chip.drop_duplicates()"
   ]
  },
  {
   "cell_type": "code",
   "execution_count": 7,
   "id": "8d3b1030",
   "metadata": {},
   "outputs": [],
   "source": [
    "chip['DATE'] = pd.to_datetime(chip['DATE'])"
   ]
  },
  {
   "cell_type": "code",
   "execution_count": 8,
   "id": "39431033",
   "metadata": {},
   "outputs": [
    {
     "data": {
      "text/html": [
       "<div>\n",
       "<style scoped>\n",
       "    .dataframe tbody tr th:only-of-type {\n",
       "        vertical-align: middle;\n",
       "    }\n",
       "\n",
       "    .dataframe tbody tr th {\n",
       "        vertical-align: top;\n",
       "    }\n",
       "\n",
       "    .dataframe thead th {\n",
       "        text-align: right;\n",
       "    }\n",
       "</style>\n",
       "<table border=\"1\" class=\"dataframe\">\n",
       "  <thead>\n",
       "    <tr style=\"text-align: right;\">\n",
       "      <th></th>\n",
       "      <th>LYLTY_CARD_NBR</th>\n",
       "      <th>DATE</th>\n",
       "      <th>STORE_NBR</th>\n",
       "      <th>TXN_ID</th>\n",
       "      <th>PROD_NBR</th>\n",
       "      <th>PROD_NAME</th>\n",
       "      <th>PROD_QTY</th>\n",
       "      <th>TOT_SALES</th>\n",
       "      <th>PACK_SIZE</th>\n",
       "      <th>BRAND</th>\n",
       "      <th>LIFESTAGE</th>\n",
       "      <th>PREMIUM_CUSTOMER</th>\n",
       "    </tr>\n",
       "  </thead>\n",
       "  <tbody>\n",
       "    <tr>\n",
       "      <th>0</th>\n",
       "      <td>1000</td>\n",
       "      <td>2018-10-17</td>\n",
       "      <td>1</td>\n",
       "      <td>1</td>\n",
       "      <td>5</td>\n",
       "      <td>Natural Chip        Compny SeaSalt175g</td>\n",
       "      <td>2</td>\n",
       "      <td>6.0</td>\n",
       "      <td>175</td>\n",
       "      <td>NATURAL</td>\n",
       "      <td>YOUNG SINGLES/COUPLES</td>\n",
       "      <td>Premium</td>\n",
       "    </tr>\n",
       "    <tr>\n",
       "      <th>1</th>\n",
       "      <td>1002</td>\n",
       "      <td>2018-09-16</td>\n",
       "      <td>1</td>\n",
       "      <td>2</td>\n",
       "      <td>58</td>\n",
       "      <td>Red Rock Deli Chikn&amp;Garlic Aioli 150g</td>\n",
       "      <td>1</td>\n",
       "      <td>2.7</td>\n",
       "      <td>150</td>\n",
       "      <td>RRD</td>\n",
       "      <td>YOUNG SINGLES/COUPLES</td>\n",
       "      <td>Mainstream</td>\n",
       "    </tr>\n",
       "    <tr>\n",
       "      <th>2</th>\n",
       "      <td>1003</td>\n",
       "      <td>2019-03-07</td>\n",
       "      <td>1</td>\n",
       "      <td>3</td>\n",
       "      <td>52</td>\n",
       "      <td>Grain Waves Sour    Cream&amp;Chives 210G</td>\n",
       "      <td>1</td>\n",
       "      <td>3.6</td>\n",
       "      <td>210</td>\n",
       "      <td>GRNWVES</td>\n",
       "      <td>YOUNG FAMILIES</td>\n",
       "      <td>Budget</td>\n",
       "    </tr>\n",
       "    <tr>\n",
       "      <th>3</th>\n",
       "      <td>1003</td>\n",
       "      <td>2019-03-08</td>\n",
       "      <td>1</td>\n",
       "      <td>4</td>\n",
       "      <td>106</td>\n",
       "      <td>Natural ChipCo      Hony Soy Chckn175g</td>\n",
       "      <td>1</td>\n",
       "      <td>3.0</td>\n",
       "      <td>175</td>\n",
       "      <td>NATURAL</td>\n",
       "      <td>YOUNG FAMILIES</td>\n",
       "      <td>Budget</td>\n",
       "    </tr>\n",
       "    <tr>\n",
       "      <th>4</th>\n",
       "      <td>1004</td>\n",
       "      <td>2018-11-02</td>\n",
       "      <td>1</td>\n",
       "      <td>5</td>\n",
       "      <td>96</td>\n",
       "      <td>WW Original Stacked Chips 160g</td>\n",
       "      <td>1</td>\n",
       "      <td>1.9</td>\n",
       "      <td>160</td>\n",
       "      <td>WOOLWORTHS</td>\n",
       "      <td>OLDER SINGLES/COUPLES</td>\n",
       "      <td>Mainstream</td>\n",
       "    </tr>\n",
       "  </tbody>\n",
       "</table>\n",
       "</div>"
      ],
      "text/plain": [
       "   LYLTY_CARD_NBR       DATE  STORE_NBR  TXN_ID  PROD_NBR  \\\n",
       "0            1000 2018-10-17          1       1         5   \n",
       "1            1002 2018-09-16          1       2        58   \n",
       "2            1003 2019-03-07          1       3        52   \n",
       "3            1003 2019-03-08          1       4       106   \n",
       "4            1004 2018-11-02          1       5        96   \n",
       "\n",
       "                                PROD_NAME  PROD_QTY  TOT_SALES  PACK_SIZE  \\\n",
       "0  Natural Chip        Compny SeaSalt175g         2        6.0        175   \n",
       "1   Red Rock Deli Chikn&Garlic Aioli 150g         1        2.7        150   \n",
       "2   Grain Waves Sour    Cream&Chives 210G         1        3.6        210   \n",
       "3  Natural ChipCo      Hony Soy Chckn175g         1        3.0        175   \n",
       "4          WW Original Stacked Chips 160g         1        1.9        160   \n",
       "\n",
       "        BRAND              LIFESTAGE PREMIUM_CUSTOMER  \n",
       "0     NATURAL  YOUNG SINGLES/COUPLES          Premium  \n",
       "1         RRD  YOUNG SINGLES/COUPLES       Mainstream  \n",
       "2     GRNWVES         YOUNG FAMILIES           Budget  \n",
       "3     NATURAL         YOUNG FAMILIES           Budget  \n",
       "4  WOOLWORTHS  OLDER SINGLES/COUPLES       Mainstream  "
      ]
     },
     "execution_count": 8,
     "metadata": {},
     "output_type": "execute_result"
    }
   ],
   "source": [
    "chip.head()"
   ]
  },
  {
   "cell_type": "code",
   "execution_count": 9,
   "id": "e41205eb",
   "metadata": {},
   "outputs": [],
   "source": [
    "chip['MONTH'] = chip['DATE'].dt.month_name()"
   ]
  },
  {
   "cell_type": "code",
   "execution_count": 10,
   "id": "74ce77e1",
   "metadata": {},
   "outputs": [],
   "source": [
    "count_month = chip.groupby(['STORE_NBR'])['MONTH'].nunique()"
   ]
  },
  {
   "cell_type": "code",
   "execution_count": 11,
   "id": "05909b16",
   "metadata": {},
   "outputs": [],
   "source": [
    "remove_store_nbr = count_month[count_month < 12].index.tolist()"
   ]
  },
  {
   "cell_type": "code",
   "execution_count": 12,
   "id": "5dfc2f7a",
   "metadata": {},
   "outputs": [
    {
     "data": {
      "text/plain": [
       "[11, 31, 44, 76, 85, 92, 117, 193, 206, 211, 218, 252]"
      ]
     },
     "execution_count": 12,
     "metadata": {},
     "output_type": "execute_result"
    }
   ],
   "source": [
    "remove_store_nbr"
   ]
  },
  {
   "cell_type": "code",
   "execution_count": 13,
   "id": "96db14ab",
   "metadata": {},
   "outputs": [],
   "source": [
    "chip = chip[~chip['STORE_NBR'].isin(remove_store_nbr)]"
   ]
  },
  {
   "cell_type": "code",
   "execution_count": 14,
   "id": "628fba55",
   "metadata": {},
   "outputs": [
    {
     "name": "stdout",
     "output_type": "stream",
     "text": [
      "<class 'pandas.core.frame.DataFrame'>\n",
      "Int64Index: 264644 entries, 0 to 264833\n",
      "Data columns (total 13 columns):\n",
      " #   Column            Non-Null Count   Dtype         \n",
      "---  ------            --------------   -----         \n",
      " 0   LYLTY_CARD_NBR    264644 non-null  int64         \n",
      " 1   DATE              264644 non-null  datetime64[ns]\n",
      " 2   STORE_NBR         264644 non-null  int64         \n",
      " 3   TXN_ID            264644 non-null  int64         \n",
      " 4   PROD_NBR          264644 non-null  int64         \n",
      " 5   PROD_NAME         264644 non-null  object        \n",
      " 6   PROD_QTY          264644 non-null  int64         \n",
      " 7   TOT_SALES         264644 non-null  float64       \n",
      " 8   PACK_SIZE         264644 non-null  int64         \n",
      " 9   BRAND             264644 non-null  object        \n",
      " 10  LIFESTAGE         264644 non-null  object        \n",
      " 11  PREMIUM_CUSTOMER  264644 non-null  object        \n",
      " 12  MONTH             264644 non-null  object        \n",
      "dtypes: datetime64[ns](1), float64(1), int64(6), object(5)\n",
      "memory usage: 28.3+ MB\n"
     ]
    }
   ],
   "source": [
    "chip.info()"
   ]
  },
  {
   "cell_type": "code",
   "execution_count": 15,
   "id": "ff07dbaf",
   "metadata": {},
   "outputs": [],
   "source": [
    "chip['YEARMONTH'] = chip['DATE'].dt.to_period('M')"
   ]
  },
  {
   "cell_type": "code",
   "execution_count": 16,
   "id": "8fc2527b",
   "metadata": {},
   "outputs": [
    {
     "data": {
      "text/html": [
       "<div>\n",
       "<style scoped>\n",
       "    .dataframe tbody tr th:only-of-type {\n",
       "        vertical-align: middle;\n",
       "    }\n",
       "\n",
       "    .dataframe tbody tr th {\n",
       "        vertical-align: top;\n",
       "    }\n",
       "\n",
       "    .dataframe thead th {\n",
       "        text-align: right;\n",
       "    }\n",
       "</style>\n",
       "<table border=\"1\" class=\"dataframe\">\n",
       "  <thead>\n",
       "    <tr style=\"text-align: right;\">\n",
       "      <th></th>\n",
       "      <th>LYLTY_CARD_NBR</th>\n",
       "      <th>DATE</th>\n",
       "      <th>STORE_NBR</th>\n",
       "      <th>TXN_ID</th>\n",
       "      <th>PROD_NBR</th>\n",
       "      <th>PROD_NAME</th>\n",
       "      <th>PROD_QTY</th>\n",
       "      <th>TOT_SALES</th>\n",
       "      <th>PACK_SIZE</th>\n",
       "      <th>BRAND</th>\n",
       "      <th>LIFESTAGE</th>\n",
       "      <th>PREMIUM_CUSTOMER</th>\n",
       "      <th>MONTH</th>\n",
       "      <th>YEARMONTH</th>\n",
       "    </tr>\n",
       "  </thead>\n",
       "  <tbody>\n",
       "    <tr>\n",
       "      <th>0</th>\n",
       "      <td>1000</td>\n",
       "      <td>2018-10-17</td>\n",
       "      <td>1</td>\n",
       "      <td>1</td>\n",
       "      <td>5</td>\n",
       "      <td>Natural Chip        Compny SeaSalt175g</td>\n",
       "      <td>2</td>\n",
       "      <td>6.0</td>\n",
       "      <td>175</td>\n",
       "      <td>NATURAL</td>\n",
       "      <td>YOUNG SINGLES/COUPLES</td>\n",
       "      <td>Premium</td>\n",
       "      <td>October</td>\n",
       "      <td>2018-10</td>\n",
       "    </tr>\n",
       "    <tr>\n",
       "      <th>1</th>\n",
       "      <td>1002</td>\n",
       "      <td>2018-09-16</td>\n",
       "      <td>1</td>\n",
       "      <td>2</td>\n",
       "      <td>58</td>\n",
       "      <td>Red Rock Deli Chikn&amp;Garlic Aioli 150g</td>\n",
       "      <td>1</td>\n",
       "      <td>2.7</td>\n",
       "      <td>150</td>\n",
       "      <td>RRD</td>\n",
       "      <td>YOUNG SINGLES/COUPLES</td>\n",
       "      <td>Mainstream</td>\n",
       "      <td>September</td>\n",
       "      <td>2018-09</td>\n",
       "    </tr>\n",
       "    <tr>\n",
       "      <th>2</th>\n",
       "      <td>1003</td>\n",
       "      <td>2019-03-07</td>\n",
       "      <td>1</td>\n",
       "      <td>3</td>\n",
       "      <td>52</td>\n",
       "      <td>Grain Waves Sour    Cream&amp;Chives 210G</td>\n",
       "      <td>1</td>\n",
       "      <td>3.6</td>\n",
       "      <td>210</td>\n",
       "      <td>GRNWVES</td>\n",
       "      <td>YOUNG FAMILIES</td>\n",
       "      <td>Budget</td>\n",
       "      <td>March</td>\n",
       "      <td>2019-03</td>\n",
       "    </tr>\n",
       "    <tr>\n",
       "      <th>3</th>\n",
       "      <td>1003</td>\n",
       "      <td>2019-03-08</td>\n",
       "      <td>1</td>\n",
       "      <td>4</td>\n",
       "      <td>106</td>\n",
       "      <td>Natural ChipCo      Hony Soy Chckn175g</td>\n",
       "      <td>1</td>\n",
       "      <td>3.0</td>\n",
       "      <td>175</td>\n",
       "      <td>NATURAL</td>\n",
       "      <td>YOUNG FAMILIES</td>\n",
       "      <td>Budget</td>\n",
       "      <td>March</td>\n",
       "      <td>2019-03</td>\n",
       "    </tr>\n",
       "    <tr>\n",
       "      <th>4</th>\n",
       "      <td>1004</td>\n",
       "      <td>2018-11-02</td>\n",
       "      <td>1</td>\n",
       "      <td>5</td>\n",
       "      <td>96</td>\n",
       "      <td>WW Original Stacked Chips 160g</td>\n",
       "      <td>1</td>\n",
       "      <td>1.9</td>\n",
       "      <td>160</td>\n",
       "      <td>WOOLWORTHS</td>\n",
       "      <td>OLDER SINGLES/COUPLES</td>\n",
       "      <td>Mainstream</td>\n",
       "      <td>November</td>\n",
       "      <td>2018-11</td>\n",
       "    </tr>\n",
       "  </tbody>\n",
       "</table>\n",
       "</div>"
      ],
      "text/plain": [
       "   LYLTY_CARD_NBR       DATE  STORE_NBR  TXN_ID  PROD_NBR  \\\n",
       "0            1000 2018-10-17          1       1         5   \n",
       "1            1002 2018-09-16          1       2        58   \n",
       "2            1003 2019-03-07          1       3        52   \n",
       "3            1003 2019-03-08          1       4       106   \n",
       "4            1004 2018-11-02          1       5        96   \n",
       "\n",
       "                                PROD_NAME  PROD_QTY  TOT_SALES  PACK_SIZE  \\\n",
       "0  Natural Chip        Compny SeaSalt175g         2        6.0        175   \n",
       "1   Red Rock Deli Chikn&Garlic Aioli 150g         1        2.7        150   \n",
       "2   Grain Waves Sour    Cream&Chives 210G         1        3.6        210   \n",
       "3  Natural ChipCo      Hony Soy Chckn175g         1        3.0        175   \n",
       "4          WW Original Stacked Chips 160g         1        1.9        160   \n",
       "\n",
       "        BRAND              LIFESTAGE PREMIUM_CUSTOMER      MONTH YEARMONTH  \n",
       "0     NATURAL  YOUNG SINGLES/COUPLES          Premium    October   2018-10  \n",
       "1         RRD  YOUNG SINGLES/COUPLES       Mainstream  September   2018-09  \n",
       "2     GRNWVES         YOUNG FAMILIES           Budget      March   2019-03  \n",
       "3     NATURAL         YOUNG FAMILIES           Budget      March   2019-03  \n",
       "4  WOOLWORTHS  OLDER SINGLES/COUPLES       Mainstream   November   2018-11  "
      ]
     },
     "execution_count": 16,
     "metadata": {},
     "output_type": "execute_result"
    }
   ],
   "source": [
    "chip.head()"
   ]
  },
  {
   "cell_type": "markdown",
   "id": "1ac6b219",
   "metadata": {},
   "source": [
    "- total sales revenue\n",
    "- total number of customers\n",
    "- average number of transactions per customer"
   ]
  },
  {
   "cell_type": "code",
   "execution_count": 17,
   "id": "827b5e2d",
   "metadata": {},
   "outputs": [],
   "source": [
    "chip['REVENUE'] = chip.groupby(['STORE_NBR','YEARMONTH'])['TOT_SALES'].transform('sum')"
   ]
  },
  {
   "cell_type": "code",
   "execution_count": 18,
   "id": "45c925a5",
   "metadata": {},
   "outputs": [],
   "source": [
    "chip['TOT_CUS'] = chip.groupby(['STORE_NBR','YEARMONTH'])['LYLTY_CARD_NBR'].transform('nunique')"
   ]
  },
  {
   "cell_type": "code",
   "execution_count": 19,
   "id": "a6c44151",
   "metadata": {},
   "outputs": [],
   "source": [
    "total_trans = chip.groupby(['STORE_NBR','YEARMONTH'])['TXN_ID'].transform('nunique')"
   ]
  },
  {
   "cell_type": "code",
   "execution_count": 20,
   "id": "a6d3d094",
   "metadata": {},
   "outputs": [],
   "source": [
    "chip['AVG_CUS_TRANS'] = total_trans/chip['TOT_CUS']"
   ]
  },
  {
   "cell_type": "code",
   "execution_count": 21,
   "id": "d12f9f97",
   "metadata": {},
   "outputs": [
    {
     "data": {
      "text/html": [
       "<div>\n",
       "<style scoped>\n",
       "    .dataframe tbody tr th:only-of-type {\n",
       "        vertical-align: middle;\n",
       "    }\n",
       "\n",
       "    .dataframe tbody tr th {\n",
       "        vertical-align: top;\n",
       "    }\n",
       "\n",
       "    .dataframe thead th {\n",
       "        text-align: right;\n",
       "    }\n",
       "</style>\n",
       "<table border=\"1\" class=\"dataframe\">\n",
       "  <thead>\n",
       "    <tr style=\"text-align: right;\">\n",
       "      <th></th>\n",
       "      <th>LYLTY_CARD_NBR</th>\n",
       "      <th>DATE</th>\n",
       "      <th>STORE_NBR</th>\n",
       "      <th>TXN_ID</th>\n",
       "      <th>PROD_NBR</th>\n",
       "      <th>PROD_NAME</th>\n",
       "      <th>PROD_QTY</th>\n",
       "      <th>TOT_SALES</th>\n",
       "      <th>PACK_SIZE</th>\n",
       "      <th>BRAND</th>\n",
       "      <th>LIFESTAGE</th>\n",
       "      <th>PREMIUM_CUSTOMER</th>\n",
       "      <th>MONTH</th>\n",
       "      <th>YEARMONTH</th>\n",
       "      <th>REVENUE</th>\n",
       "      <th>TOT_CUS</th>\n",
       "      <th>AVG_CUS_TRANS</th>\n",
       "    </tr>\n",
       "  </thead>\n",
       "  <tbody>\n",
       "    <tr>\n",
       "      <th>0</th>\n",
       "      <td>1000</td>\n",
       "      <td>2018-10-17</td>\n",
       "      <td>1</td>\n",
       "      <td>1</td>\n",
       "      <td>5</td>\n",
       "      <td>Natural Chip        Compny SeaSalt175g</td>\n",
       "      <td>2</td>\n",
       "      <td>6.0</td>\n",
       "      <td>175</td>\n",
       "      <td>NATURAL</td>\n",
       "      <td>YOUNG SINGLES/COUPLES</td>\n",
       "      <td>Premium</td>\n",
       "      <td>October</td>\n",
       "      <td>2018-10</td>\n",
       "      <td>188.1</td>\n",
       "      <td>44</td>\n",
       "      <td>1.022727</td>\n",
       "    </tr>\n",
       "    <tr>\n",
       "      <th>1</th>\n",
       "      <td>1002</td>\n",
       "      <td>2018-09-16</td>\n",
       "      <td>1</td>\n",
       "      <td>2</td>\n",
       "      <td>58</td>\n",
       "      <td>Red Rock Deli Chikn&amp;Garlic Aioli 150g</td>\n",
       "      <td>1</td>\n",
       "      <td>2.7</td>\n",
       "      <td>150</td>\n",
       "      <td>RRD</td>\n",
       "      <td>YOUNG SINGLES/COUPLES</td>\n",
       "      <td>Mainstream</td>\n",
       "      <td>September</td>\n",
       "      <td>2018-09</td>\n",
       "      <td>278.8</td>\n",
       "      <td>59</td>\n",
       "      <td>1.050847</td>\n",
       "    </tr>\n",
       "    <tr>\n",
       "      <th>2</th>\n",
       "      <td>1003</td>\n",
       "      <td>2019-03-07</td>\n",
       "      <td>1</td>\n",
       "      <td>3</td>\n",
       "      <td>52</td>\n",
       "      <td>Grain Waves Sour    Cream&amp;Chives 210G</td>\n",
       "      <td>1</td>\n",
       "      <td>3.6</td>\n",
       "      <td>210</td>\n",
       "      <td>GRNWVES</td>\n",
       "      <td>YOUNG FAMILIES</td>\n",
       "      <td>Budget</td>\n",
       "      <td>March</td>\n",
       "      <td>2019-03</td>\n",
       "      <td>192.9</td>\n",
       "      <td>45</td>\n",
       "      <td>1.088889</td>\n",
       "    </tr>\n",
       "    <tr>\n",
       "      <th>3</th>\n",
       "      <td>1003</td>\n",
       "      <td>2019-03-08</td>\n",
       "      <td>1</td>\n",
       "      <td>4</td>\n",
       "      <td>106</td>\n",
       "      <td>Natural ChipCo      Hony Soy Chckn175g</td>\n",
       "      <td>1</td>\n",
       "      <td>3.0</td>\n",
       "      <td>175</td>\n",
       "      <td>NATURAL</td>\n",
       "      <td>YOUNG FAMILIES</td>\n",
       "      <td>Budget</td>\n",
       "      <td>March</td>\n",
       "      <td>2019-03</td>\n",
       "      <td>192.9</td>\n",
       "      <td>45</td>\n",
       "      <td>1.088889</td>\n",
       "    </tr>\n",
       "    <tr>\n",
       "      <th>4</th>\n",
       "      <td>1004</td>\n",
       "      <td>2018-11-02</td>\n",
       "      <td>1</td>\n",
       "      <td>5</td>\n",
       "      <td>96</td>\n",
       "      <td>WW Original Stacked Chips 160g</td>\n",
       "      <td>1</td>\n",
       "      <td>1.9</td>\n",
       "      <td>160</td>\n",
       "      <td>WOOLWORTHS</td>\n",
       "      <td>OLDER SINGLES/COUPLES</td>\n",
       "      <td>Mainstream</td>\n",
       "      <td>November</td>\n",
       "      <td>2018-11</td>\n",
       "      <td>192.6</td>\n",
       "      <td>46</td>\n",
       "      <td>1.021739</td>\n",
       "    </tr>\n",
       "  </tbody>\n",
       "</table>\n",
       "</div>"
      ],
      "text/plain": [
       "   LYLTY_CARD_NBR       DATE  STORE_NBR  TXN_ID  PROD_NBR  \\\n",
       "0            1000 2018-10-17          1       1         5   \n",
       "1            1002 2018-09-16          1       2        58   \n",
       "2            1003 2019-03-07          1       3        52   \n",
       "3            1003 2019-03-08          1       4       106   \n",
       "4            1004 2018-11-02          1       5        96   \n",
       "\n",
       "                                PROD_NAME  PROD_QTY  TOT_SALES  PACK_SIZE  \\\n",
       "0  Natural Chip        Compny SeaSalt175g         2        6.0        175   \n",
       "1   Red Rock Deli Chikn&Garlic Aioli 150g         1        2.7        150   \n",
       "2   Grain Waves Sour    Cream&Chives 210G         1        3.6        210   \n",
       "3  Natural ChipCo      Hony Soy Chckn175g         1        3.0        175   \n",
       "4          WW Original Stacked Chips 160g         1        1.9        160   \n",
       "\n",
       "        BRAND              LIFESTAGE PREMIUM_CUSTOMER      MONTH YEARMONTH  \\\n",
       "0     NATURAL  YOUNG SINGLES/COUPLES          Premium    October   2018-10   \n",
       "1         RRD  YOUNG SINGLES/COUPLES       Mainstream  September   2018-09   \n",
       "2     GRNWVES         YOUNG FAMILIES           Budget      March   2019-03   \n",
       "3     NATURAL         YOUNG FAMILIES           Budget      March   2019-03   \n",
       "4  WOOLWORTHS  OLDER SINGLES/COUPLES       Mainstream   November   2018-11   \n",
       "\n",
       "   REVENUE  TOT_CUS  AVG_CUS_TRANS  \n",
       "0    188.1       44       1.022727  \n",
       "1    278.8       59       1.050847  \n",
       "2    192.9       45       1.088889  \n",
       "3    192.9       45       1.088889  \n",
       "4    192.6       46       1.021739  "
      ]
     },
     "execution_count": 21,
     "metadata": {},
     "output_type": "execute_result"
    }
   ],
   "source": [
    "chip.head()"
   ]
  },
  {
   "cell_type": "code",
   "execution_count": 22,
   "id": "49c05d6f",
   "metadata": {},
   "outputs": [],
   "source": [
    "pre_chip = chip[chip['YEARMONTH'] < '2019-02']\n",
    "trial_chip = chip[(chip['YEARMONTH'] >= '2019-02') & (chip['YEARMONTH'] <= '2019-06')]"
   ]
  },
  {
   "cell_type": "code",
   "execution_count": 23,
   "id": "12dea332",
   "metadata": {},
   "outputs": [],
   "source": [
    "metrics = ['STORE_NBR','YEARMONTH','REVENUE','TOT_CUS','AVG_CUS_TRANS']"
   ]
  },
  {
   "cell_type": "code",
   "execution_count": 24,
   "id": "fdef3cea",
   "metadata": {},
   "outputs": [],
   "source": [
    "def extract_metrics(chip):\n",
    "    subdf = chip[metrics]\n",
    "    subdf = subdf.set_index(['STORE_NBR','YEARMONTH'])\n",
    "    subdf = subdf.sort_values(by = ['STORE_NBR','YEARMONTH'])\n",
    "    subdf = subdf.drop_duplicates(keep = 'first')\n",
    "    return subdf"
   ]
  },
  {
   "cell_type": "code",
   "execution_count": 25,
   "id": "2b4a157a",
   "metadata": {},
   "outputs": [],
   "source": [
    "metrics_pre_chip = extract_metrics(pre_chip)"
   ]
  },
  {
   "cell_type": "code",
   "execution_count": 26,
   "id": "fc8e5407",
   "metadata": {
    "scrolled": false
   },
   "outputs": [
    {
     "data": {
      "text/html": [
       "<div>\n",
       "<style scoped>\n",
       "    .dataframe tbody tr th:only-of-type {\n",
       "        vertical-align: middle;\n",
       "    }\n",
       "\n",
       "    .dataframe tbody tr th {\n",
       "        vertical-align: top;\n",
       "    }\n",
       "\n",
       "    .dataframe thead th {\n",
       "        text-align: right;\n",
       "    }\n",
       "</style>\n",
       "<table border=\"1\" class=\"dataframe\">\n",
       "  <thead>\n",
       "    <tr style=\"text-align: right;\">\n",
       "      <th></th>\n",
       "      <th></th>\n",
       "      <th>REVENUE</th>\n",
       "      <th>TOT_CUS</th>\n",
       "      <th>AVG_CUS_TRANS</th>\n",
       "    </tr>\n",
       "    <tr>\n",
       "      <th>STORE_NBR</th>\n",
       "      <th>YEARMONTH</th>\n",
       "      <th></th>\n",
       "      <th></th>\n",
       "      <th></th>\n",
       "    </tr>\n",
       "  </thead>\n",
       "  <tbody>\n",
       "    <tr>\n",
       "      <th rowspan=\"5\" valign=\"top\">1</th>\n",
       "      <th>2018-07</th>\n",
       "      <td>206.9</td>\n",
       "      <td>49</td>\n",
       "      <td>1.061224</td>\n",
       "    </tr>\n",
       "    <tr>\n",
       "      <th>2018-08</th>\n",
       "      <td>176.1</td>\n",
       "      <td>42</td>\n",
       "      <td>1.023810</td>\n",
       "    </tr>\n",
       "    <tr>\n",
       "      <th>2018-09</th>\n",
       "      <td>278.8</td>\n",
       "      <td>59</td>\n",
       "      <td>1.050847</td>\n",
       "    </tr>\n",
       "    <tr>\n",
       "      <th>2018-10</th>\n",
       "      <td>188.1</td>\n",
       "      <td>44</td>\n",
       "      <td>1.022727</td>\n",
       "    </tr>\n",
       "    <tr>\n",
       "      <th>2018-11</th>\n",
       "      <td>192.6</td>\n",
       "      <td>46</td>\n",
       "      <td>1.021739</td>\n",
       "    </tr>\n",
       "    <tr>\n",
       "      <th>...</th>\n",
       "      <th>...</th>\n",
       "      <td>...</td>\n",
       "      <td>...</td>\n",
       "      <td>...</td>\n",
       "    </tr>\n",
       "    <tr>\n",
       "      <th rowspan=\"5\" valign=\"top\">272</th>\n",
       "      <th>2018-09</th>\n",
       "      <td>304.7</td>\n",
       "      <td>32</td>\n",
       "      <td>1.125000</td>\n",
       "    </tr>\n",
       "    <tr>\n",
       "      <th>2018-10</th>\n",
       "      <td>430.6</td>\n",
       "      <td>44</td>\n",
       "      <td>1.136364</td>\n",
       "    </tr>\n",
       "    <tr>\n",
       "      <th>2018-11</th>\n",
       "      <td>376.2</td>\n",
       "      <td>41</td>\n",
       "      <td>1.097561</td>\n",
       "    </tr>\n",
       "    <tr>\n",
       "      <th>2018-12</th>\n",
       "      <td>403.9</td>\n",
       "      <td>47</td>\n",
       "      <td>1.000000</td>\n",
       "    </tr>\n",
       "    <tr>\n",
       "      <th>2019-01</th>\n",
       "      <td>423.0</td>\n",
       "      <td>46</td>\n",
       "      <td>1.086957</td>\n",
       "    </tr>\n",
       "  </tbody>\n",
       "</table>\n",
       "<p>1816 rows × 3 columns</p>\n",
       "</div>"
      ],
      "text/plain": [
       "                     REVENUE  TOT_CUS  AVG_CUS_TRANS\n",
       "STORE_NBR YEARMONTH                                 \n",
       "1         2018-07      206.9       49       1.061224\n",
       "          2018-08      176.1       42       1.023810\n",
       "          2018-09      278.8       59       1.050847\n",
       "          2018-10      188.1       44       1.022727\n",
       "          2018-11      192.6       46       1.021739\n",
       "...                      ...      ...            ...\n",
       "272       2018-09      304.7       32       1.125000\n",
       "          2018-10      430.6       44       1.136364\n",
       "          2018-11      376.2       41       1.097561\n",
       "          2018-12      403.9       47       1.000000\n",
       "          2019-01      423.0       46       1.086957\n",
       "\n",
       "[1816 rows x 3 columns]"
      ]
     },
     "execution_count": 26,
     "metadata": {},
     "output_type": "execute_result"
    }
   ],
   "source": [
    "metrics_pre_chip"
   ]
  },
  {
   "cell_type": "code",
   "execution_count": 27,
   "id": "5c77be2a",
   "metadata": {},
   "outputs": [],
   "source": [
    "metrics_calc = metrics_pre_chip[['REVENUE','TOT_CUS']]"
   ]
  },
  {
   "cell_type": "code",
   "execution_count": 28,
   "id": "e0879648",
   "metadata": {},
   "outputs": [],
   "source": [
    "def calc_corr(trial_store):\n",
    "    a = []\n",
    "    for i in metrics_calc.index:\n",
    "        a.append(metrics_calc.loc[trial_store].corrwith(metrics_calc.loc[i[0]]))\n",
    "    corr = pd.DataFrame(a)\n",
    "    corr.index = metrics_calc.index\n",
    "    corr = corr.drop_duplicates()\n",
    "    corr.index = [s[0] for s in corr.index]\n",
    "    corr.index.name = 'STORE_NBR'\n",
    "    corr['MEAN_CORR'] = corr.mean(axis = 1)\n",
    "    corr.sort_values(by = ['MEAN_CORR'], ascending = False, inplace = True)\n",
    "    return corr"
   ]
  },
  {
   "cell_type": "code",
   "execution_count": 29,
   "id": "d07c918f",
   "metadata": {},
   "outputs": [],
   "source": [
    "corr_77 = calc_corr(77)"
   ]
  },
  {
   "cell_type": "code",
   "execution_count": 30,
   "id": "4693210d",
   "metadata": {},
   "outputs": [],
   "source": [
    "corr_77 = corr_77[corr_77['MEAN_CORR'] > 0.7]"
   ]
  },
  {
   "cell_type": "code",
   "execution_count": 31,
   "id": "9ae6d246",
   "metadata": {},
   "outputs": [
    {
     "data": {
      "text/html": [
       "<div>\n",
       "<style scoped>\n",
       "    .dataframe tbody tr th:only-of-type {\n",
       "        vertical-align: middle;\n",
       "    }\n",
       "\n",
       "    .dataframe tbody tr th {\n",
       "        vertical-align: top;\n",
       "    }\n",
       "\n",
       "    .dataframe thead th {\n",
       "        text-align: right;\n",
       "    }\n",
       "</style>\n",
       "<table border=\"1\" class=\"dataframe\">\n",
       "  <thead>\n",
       "    <tr style=\"text-align: right;\">\n",
       "      <th></th>\n",
       "      <th>REVENUE</th>\n",
       "      <th>TOT_CUS</th>\n",
       "      <th>MEAN_CORR</th>\n",
       "    </tr>\n",
       "    <tr>\n",
       "      <th>STORE_NBR</th>\n",
       "      <th></th>\n",
       "      <th></th>\n",
       "      <th></th>\n",
       "    </tr>\n",
       "  </thead>\n",
       "  <tbody>\n",
       "    <tr>\n",
       "      <th>77</th>\n",
       "      <td>1.000000</td>\n",
       "      <td>1.000000</td>\n",
       "      <td>1.000000</td>\n",
       "    </tr>\n",
       "    <tr>\n",
       "      <th>233</th>\n",
       "      <td>0.903774</td>\n",
       "      <td>0.990358</td>\n",
       "      <td>0.947066</td>\n",
       "    </tr>\n",
       "    <tr>\n",
       "      <th>119</th>\n",
       "      <td>0.867664</td>\n",
       "      <td>0.983267</td>\n",
       "      <td>0.925466</td>\n",
       "    </tr>\n",
       "    <tr>\n",
       "      <th>71</th>\n",
       "      <td>0.914106</td>\n",
       "      <td>0.754817</td>\n",
       "      <td>0.834461</td>\n",
       "    </tr>\n",
       "    <tr>\n",
       "      <th>3</th>\n",
       "      <td>0.806644</td>\n",
       "      <td>0.834207</td>\n",
       "      <td>0.820426</td>\n",
       "    </tr>\n",
       "    <tr>\n",
       "      <th>41</th>\n",
       "      <td>0.783232</td>\n",
       "      <td>0.844219</td>\n",
       "      <td>0.813726</td>\n",
       "    </tr>\n",
       "    <tr>\n",
       "      <th>17</th>\n",
       "      <td>0.842668</td>\n",
       "      <td>0.747308</td>\n",
       "      <td>0.794988</td>\n",
       "    </tr>\n",
       "    <tr>\n",
       "      <th>84</th>\n",
       "      <td>0.684348</td>\n",
       "      <td>0.858571</td>\n",
       "      <td>0.771460</td>\n",
       "    </tr>\n",
       "    <tr>\n",
       "      <th>254</th>\n",
       "      <td>0.577108</td>\n",
       "      <td>0.916208</td>\n",
       "      <td>0.746658</td>\n",
       "    </tr>\n",
       "    <tr>\n",
       "      <th>157</th>\n",
       "      <td>0.735893</td>\n",
       "      <td>0.731717</td>\n",
       "      <td>0.733805</td>\n",
       "    </tr>\n",
       "    <tr>\n",
       "      <th>113</th>\n",
       "      <td>0.520015</td>\n",
       "      <td>0.901348</td>\n",
       "      <td>0.710682</td>\n",
       "    </tr>\n",
       "    <tr>\n",
       "      <th>162</th>\n",
       "      <td>0.729740</td>\n",
       "      <td>0.688577</td>\n",
       "      <td>0.709159</td>\n",
       "    </tr>\n",
       "    <tr>\n",
       "      <th>115</th>\n",
       "      <td>0.689159</td>\n",
       "      <td>0.718882</td>\n",
       "      <td>0.704020</td>\n",
       "    </tr>\n",
       "  </tbody>\n",
       "</table>\n",
       "</div>"
      ],
      "text/plain": [
       "            REVENUE   TOT_CUS  MEAN_CORR\n",
       "STORE_NBR                               \n",
       "77         1.000000  1.000000   1.000000\n",
       "233        0.903774  0.990358   0.947066\n",
       "119        0.867664  0.983267   0.925466\n",
       "71         0.914106  0.754817   0.834461\n",
       "3          0.806644  0.834207   0.820426\n",
       "41         0.783232  0.844219   0.813726\n",
       "17         0.842668  0.747308   0.794988\n",
       "84         0.684348  0.858571   0.771460\n",
       "254        0.577108  0.916208   0.746658\n",
       "157        0.735893  0.731717   0.733805\n",
       "113        0.520015  0.901348   0.710682\n",
       "162        0.729740  0.688577   0.709159\n",
       "115        0.689159  0.718882   0.704020"
      ]
     },
     "execution_count": 31,
     "metadata": {},
     "output_type": "execute_result"
    }
   ],
   "source": [
    "corr_77"
   ]
  },
  {
   "cell_type": "code",
   "execution_count": 32,
   "id": "871c4ba8",
   "metadata": {},
   "outputs": [
    {
     "data": {
      "image/png": "[encoded data removed]",
      "text/plain": [
       "<Figure size 1800x800 with 1 Axes>"
      ]
     },
     "metadata": {},
     "output_type": "display_data"
    }
   ],
   "source": [
    "corr_77.plot(kind = 'bar', figsize = (18,8))\n",
    "plt.title('Correlation of store 77 with other stores')\n",
    "plt.xlabel('Store Number')\n",
    "plt.ylabel('Correlation Coefficient')\n",
    "plt.tight_layout()\n",
    "plt.show()"
   ]
  },
  {
   "cell_type": "code",
   "execution_count": 33,
   "id": "9c9993f1",
   "metadata": {},
   "outputs": [],
   "source": [
    "store_77_sales = metrics_calc.loc[77,'REVENUE']"
   ]
  },
  {
   "cell_type": "code",
   "execution_count": 34,
   "id": "9a7c8132",
   "metadata": {},
   "outputs": [
    {
     "data": {
      "text/plain": [
       "YEARMONTH\n",
       "2018-07    296.8\n",
       "2018-08    255.5\n",
       "2018-09    225.2\n",
       "2018-10    204.5\n",
       "2018-11    245.3\n",
       "2018-12    267.3\n",
       "2019-01    204.4\n",
       "Freq: M, Name: REVENUE, dtype: float64"
      ]
     },
     "execution_count": 34,
     "metadata": {},
     "output_type": "execute_result"
    }
   ],
   "source": [
    "store_77_sales"
   ]
  },
  {
   "cell_type": "code",
   "execution_count": 35,
   "id": "c36bfa70",
   "metadata": {},
   "outputs": [],
   "source": [
    "store_233_sales = metrics_calc.loc[233,'REVENUE']"
   ]
  },
  {
   "cell_type": "code",
   "execution_count": 36,
   "id": "24ca0e20",
   "metadata": {},
   "outputs": [
    {
     "data": {
      "text/plain": [
       "YEARMONTH\n",
       "2018-07    290.7\n",
       "2018-08    285.9\n",
       "2018-09    228.6\n",
       "2018-10    185.7\n",
       "2018-11    211.6\n",
       "2018-12    279.8\n",
       "2019-01    177.5\n",
       "Freq: M, Name: REVENUE, dtype: float64"
      ]
     },
     "execution_count": 36,
     "metadata": {},
     "output_type": "execute_result"
    }
   ],
   "source": [
    "store_233_sales"
   ]
  },
  {
   "cell_type": "code",
   "execution_count": 37,
   "id": "66a6d3c7",
   "metadata": {},
   "outputs": [
    {
     "data": {
      "image/png": "[encoded data removed]",
      "text/plain": [
       "<Figure size 500x400 with 1 Axes>"
      ]
     },
     "metadata": {},
     "output_type": "display_data"
    }
   ],
   "source": [
    "plt.figure(figsize = (5,4))\n",
    "sns.histplot(data = store_77_sales,kde = True, stat = 'density')\n",
    "sns.histplot(data = store_233_sales,kde = True, stat = 'density')\n",
    "plt.xlabel('Revenue')\n",
    "plt.ylabel('Density')\n",
    "plt.legend(labels = ['77','233'])\n",
    "plt.show()"
   ]
  },
  {
   "cell_type": "code",
   "execution_count": 38,
   "id": "302b9f75",
   "metadata": {},
   "outputs": [
    {
     "data": {
      "image/png": "[encoded data removed]",
      "text/plain": [
       "<Figure size 640x480 with 1 Axes>"
      ]
     },
     "metadata": {},
     "output_type": "display_data"
    }
   ],
   "source": [
    "store_77_sales.plot(kind = 'bar', color = 'r')\n",
    "store_233_sales.plot(kind = 'bar', color = 'b', alpha = 0.5)\n",
    "plt.xlabel('Month of Year')\n",
    "plt.ylabel('REVENUE')\n",
    "plt.legend(labels = ['77','233'])\n",
    "plt.show()"
   ]
  },
  {
   "cell_type": "code",
   "execution_count": 39,
   "id": "2ea6947f",
   "metadata": {},
   "outputs": [],
   "source": [
    "store_77_cus = metrics_calc.loc[77, 'TOT_CUS']"
   ]
  },
  {
   "cell_type": "code",
   "execution_count": 40,
   "id": "25f0acbc",
   "metadata": {},
   "outputs": [
    {
     "data": {
      "text/plain": [
       "YEARMONTH\n",
       "2018-07    51\n",
       "2018-08    47\n",
       "2018-09    42\n",
       "2018-10    37\n",
       "2018-11    41\n",
       "2018-12    46\n",
       "2019-01    35\n",
       "Freq: M, Name: TOT_CUS, dtype: int64"
      ]
     },
     "execution_count": 40,
     "metadata": {},
     "output_type": "execute_result"
    }
   ],
   "source": [
    "store_77_cus"
   ]
  },
  {
   "cell_type": "code",
   "execution_count": 41,
   "id": "8708a990",
   "metadata": {},
   "outputs": [],
   "source": [
    "store_233_cus = metrics_calc.loc[233, 'TOT_CUS']"
   ]
  },
  {
   "cell_type": "code",
   "execution_count": 42,
   "id": "753c7eb9",
   "metadata": {},
   "outputs": [
    {
     "data": {
      "text/plain": [
       "YEARMONTH\n",
       "2018-07    51\n",
       "2018-08    48\n",
       "2018-09    42\n",
       "2018-10    35\n",
       "2018-11    40\n",
       "2018-12    47\n",
       "2019-01    35\n",
       "Freq: M, Name: TOT_CUS, dtype: int64"
      ]
     },
     "execution_count": 42,
     "metadata": {},
     "output_type": "execute_result"
    }
   ],
   "source": [
    "store_233_cus"
   ]
  },
  {
   "cell_type": "code",
   "execution_count": 43,
   "id": "e03c5c57",
   "metadata": {},
   "outputs": [
    {
     "data": {
      "image/png": "[encoded data removed]",
      "text/plain": [
       "<Figure size 500x400 with 1 Axes>"
      ]
     },
     "metadata": {},
     "output_type": "display_data"
    }
   ],
   "source": [
    "plt.figure(figsize = (5,4))\n",
    "sns.histplot(data = store_77_cus, kde = True,stat = 'density')\n",
    "sns.histplot(data = store_233_cus, kde = True, stat = 'density')\n",
    "plt.xlabel('')\n",
    "plt.ylabel('')\n",
    "plt.show()"
   ]
  },
  {
   "cell_type": "code",
   "execution_count": 44,
   "id": "1b09946e",
   "metadata": {},
   "outputs": [
    {
     "data": {
      "image/png": "[encoded data removed]",
      "text/plain": [
       "<Figure size 640x480 with 1 Axes>"
      ]
     },
     "metadata": {},
     "output_type": "display_data"
    }
   ],
   "source": [
    "store_77_cus.plot(kind = 'bar', color= 'r')\n",
    "store_233_cus.plot(kind = 'bar', color = 'b', alpha = 0.5)\n",
    "plt.legend(labels  = ['77','233'])\n",
    "plt.show()"
   ]
  },
  {
   "cell_type": "code",
   "execution_count": 45,
   "id": "4982dcf6",
   "metadata": {},
   "outputs": [],
   "source": [
    "from scipy.stats import ks_2samp, ttest_ind,t"
   ]
  },
  {
   "cell_type": "code",
   "execution_count": 46,
   "id": "46b818db",
   "metadata": {
    "scrolled": false
   },
   "outputs": [
    {
     "name": "stderr",
     "output_type": "stream",
     "text": [
      "C:\\Users\\truon\\AppData\\Local\\Temp\\ipykernel_19856\\4250212032.py:8: RuntimeWarning: ks_2samp: Exact calculation unsuccessful. Switching to method=asymp.\n",
      "  ks_stat, p_value = ks_2samp(group_77, group_233)\n"
     ]
    }
   ],
   "source": [
    "compare = ['TOT_CUS','REVENUE']\n",
    "\n",
    "results = pd.DataFrame(index = compare, columns =['ks_statistic', 'p_value'])\n",
    "\n",
    "for a in compare:\n",
    "    group_77 = metrics_calc.loc[77][a]\n",
    "    group_233 = metrics_calc.loc[233][a]\n",
    "    ks_stat, p_value = ks_2samp(group_77, group_233)\n",
    "    results.loc[a] = [ks_stat, p_value]"
   ]
  },
  {
   "cell_type": "code",
   "execution_count": 47,
   "id": "aa1b9342",
   "metadata": {},
   "outputs": [
    {
     "data": {
      "text/html": [
       "<div>\n",
       "<style scoped>\n",
       "    .dataframe tbody tr th:only-of-type {\n",
       "        vertical-align: middle;\n",
       "    }\n",
       "\n",
       "    .dataframe tbody tr th {\n",
       "        vertical-align: top;\n",
       "    }\n",
       "\n",
       "    .dataframe thead th {\n",
       "        text-align: right;\n",
       "    }\n",
       "</style>\n",
       "<table border=\"1\" class=\"dataframe\">\n",
       "  <thead>\n",
       "    <tr style=\"text-align: right;\">\n",
       "      <th></th>\n",
       "      <th>ks_statistic</th>\n",
       "      <th>p_value</th>\n",
       "    </tr>\n",
       "  </thead>\n",
       "  <tbody>\n",
       "    <tr>\n",
       "      <th>TOT_CUS</th>\n",
       "      <td>0.142857</td>\n",
       "      <td>0.999961</td>\n",
       "    </tr>\n",
       "    <tr>\n",
       "      <th>REVENUE</th>\n",
       "      <td>0.285714</td>\n",
       "      <td>0.962704</td>\n",
       "    </tr>\n",
       "  </tbody>\n",
       "</table>\n",
       "</div>"
      ],
      "text/plain": [
       "        ks_statistic   p_value\n",
       "TOT_CUS     0.142857  0.999961\n",
       "REVENUE     0.285714  0.962704"
      ]
     },
     "execution_count": 47,
     "metadata": {},
     "output_type": "execute_result"
    }
   ],
   "source": [
    "results.head()"
   ]
  },
  {
   "cell_type": "code",
   "execution_count": 48,
   "id": "f3b5edb8",
   "metadata": {},
   "outputs": [],
   "source": [
    "metrics_trial_chip = extract_metrics(trial_chip)"
   ]
  },
  {
   "cell_type": "code",
   "execution_count": 49,
   "id": "dd646f40",
   "metadata": {},
   "outputs": [
    {
     "data": {
      "text/html": [
       "<div>\n",
       "<style scoped>\n",
       "    .dataframe tbody tr th:only-of-type {\n",
       "        vertical-align: middle;\n",
       "    }\n",
       "\n",
       "    .dataframe tbody tr th {\n",
       "        vertical-align: top;\n",
       "    }\n",
       "\n",
       "    .dataframe thead th {\n",
       "        text-align: right;\n",
       "    }\n",
       "</style>\n",
       "<table border=\"1\" class=\"dataframe\">\n",
       "  <thead>\n",
       "    <tr style=\"text-align: right;\">\n",
       "      <th></th>\n",
       "      <th></th>\n",
       "      <th>REVENUE</th>\n",
       "      <th>TOT_CUS</th>\n",
       "      <th>AVG_CUS_TRANS</th>\n",
       "    </tr>\n",
       "    <tr>\n",
       "      <th>STORE_NBR</th>\n",
       "      <th>YEARMONTH</th>\n",
       "      <th></th>\n",
       "      <th></th>\n",
       "      <th></th>\n",
       "    </tr>\n",
       "  </thead>\n",
       "  <tbody>\n",
       "    <tr>\n",
       "      <th rowspan=\"5\" valign=\"top\">1</th>\n",
       "      <th>2019-02</th>\n",
       "      <td>225.4</td>\n",
       "      <td>52</td>\n",
       "      <td>1.057692</td>\n",
       "    </tr>\n",
       "    <tr>\n",
       "      <th>2019-03</th>\n",
       "      <td>192.9</td>\n",
       "      <td>45</td>\n",
       "      <td>1.088889</td>\n",
       "    </tr>\n",
       "    <tr>\n",
       "      <th>2019-04</th>\n",
       "      <td>192.9</td>\n",
       "      <td>42</td>\n",
       "      <td>1.023810</td>\n",
       "    </tr>\n",
       "    <tr>\n",
       "      <th>2019-05</th>\n",
       "      <td>221.4</td>\n",
       "      <td>46</td>\n",
       "      <td>1.108696</td>\n",
       "    </tr>\n",
       "    <tr>\n",
       "      <th>2019-06</th>\n",
       "      <td>174.1</td>\n",
       "      <td>42</td>\n",
       "      <td>1.000000</td>\n",
       "    </tr>\n",
       "    <tr>\n",
       "      <th>...</th>\n",
       "      <th>...</th>\n",
       "      <td>...</td>\n",
       "      <td>...</td>\n",
       "      <td>...</td>\n",
       "    </tr>\n",
       "    <tr>\n",
       "      <th rowspan=\"5\" valign=\"top\">272</th>\n",
       "      <th>2019-02</th>\n",
       "      <td>395.5</td>\n",
       "      <td>45</td>\n",
       "      <td>1.066667</td>\n",
       "    </tr>\n",
       "    <tr>\n",
       "      <th>2019-03</th>\n",
       "      <td>442.3</td>\n",
       "      <td>50</td>\n",
       "      <td>1.060000</td>\n",
       "    </tr>\n",
       "    <tr>\n",
       "      <th>2019-04</th>\n",
       "      <td>445.1</td>\n",
       "      <td>54</td>\n",
       "      <td>1.018519</td>\n",
       "    </tr>\n",
       "    <tr>\n",
       "      <th>2019-05</th>\n",
       "      <td>314.6</td>\n",
       "      <td>34</td>\n",
       "      <td>1.176471</td>\n",
       "    </tr>\n",
       "    <tr>\n",
       "      <th>2019-06</th>\n",
       "      <td>312.1</td>\n",
       "      <td>34</td>\n",
       "      <td>1.088235</td>\n",
       "    </tr>\n",
       "  </tbody>\n",
       "</table>\n",
       "<p>1297 rows × 3 columns</p>\n",
       "</div>"
      ],
      "text/plain": [
       "                     REVENUE  TOT_CUS  AVG_CUS_TRANS\n",
       "STORE_NBR YEARMONTH                                 \n",
       "1         2019-02      225.4       52       1.057692\n",
       "          2019-03      192.9       45       1.088889\n",
       "          2019-04      192.9       42       1.023810\n",
       "          2019-05      221.4       46       1.108696\n",
       "          2019-06      174.1       42       1.000000\n",
       "...                      ...      ...            ...\n",
       "272       2019-02      395.5       45       1.066667\n",
       "          2019-03      442.3       50       1.060000\n",
       "          2019-04      445.1       54       1.018519\n",
       "          2019-05      314.6       34       1.176471\n",
       "          2019-06      312.1       34       1.088235\n",
       "\n",
       "[1297 rows x 3 columns]"
      ]
     },
     "execution_count": 49,
     "metadata": {},
     "output_type": "execute_result"
    }
   ],
   "source": [
    "metrics_trial_chip"
   ]
  },
  {
   "cell_type": "code",
   "execution_count": 50,
   "id": "255fbbb5",
   "metadata": {},
   "outputs": [],
   "source": [
    "results_trial = pd.DataFrame(index = compare, columns =['ks_statistic', 'p_value'])\n",
    "\n",
    "for b in compare:\n",
    "    group_77 = metrics_trial_chip.loc[77][b]\n",
    "    group_233 = metrics_trial_chip.loc[233][b]\n",
    "    ks_stat, p_value = ks_2samp(group_77, group_233)\n",
    "    results_trial.loc[b] = [ks_stat, p_value]"
   ]
  },
  {
   "cell_type": "code",
   "execution_count": 51,
   "id": "3a214818",
   "metadata": {},
   "outputs": [
    {
     "data": {
      "text/html": [
       "<div>\n",
       "<style scoped>\n",
       "    .dataframe tbody tr th:only-of-type {\n",
       "        vertical-align: middle;\n",
       "    }\n",
       "\n",
       "    .dataframe tbody tr th {\n",
       "        vertical-align: top;\n",
       "    }\n",
       "\n",
       "    .dataframe thead th {\n",
       "        text-align: right;\n",
       "    }\n",
       "</style>\n",
       "<table border=\"1\" class=\"dataframe\">\n",
       "  <thead>\n",
       "    <tr style=\"text-align: right;\">\n",
       "      <th></th>\n",
       "      <th>ks_statistic</th>\n",
       "      <th>p_value</th>\n",
       "    </tr>\n",
       "  </thead>\n",
       "  <tbody>\n",
       "    <tr>\n",
       "      <th>TOT_CUS</th>\n",
       "      <td>0.4</td>\n",
       "      <td>0.873016</td>\n",
       "    </tr>\n",
       "    <tr>\n",
       "      <th>REVENUE</th>\n",
       "      <td>0.6</td>\n",
       "      <td>0.357143</td>\n",
       "    </tr>\n",
       "  </tbody>\n",
       "</table>\n",
       "</div>"
      ],
      "text/plain": [
       "        ks_statistic   p_value\n",
       "TOT_CUS          0.4  0.873016\n",
       "REVENUE          0.6  0.357143"
      ]
     },
     "execution_count": 51,
     "metadata": {},
     "output_type": "execute_result"
    }
   ],
   "source": [
    "results_trial.head()"
   ]
  },
  {
   "cell_type": "code",
   "execution_count": 52,
   "id": "e10f0cd2",
   "metadata": {},
   "outputs": [
    {
     "data": {
      "text/plain": [
       "1.9431802803927816"
      ]
     },
     "execution_count": 52,
     "metadata": {},
     "output_type": "execute_result"
    }
   ],
   "source": [
    "t.ppf(0.95,6)"
   ]
  },
  {
   "cell_type": "code",
   "execution_count": 53,
   "id": "cced9d10",
   "metadata": {},
   "outputs": [],
   "source": [
    "trial_store_77_sales = metrics_trial_chip.loc[77,'REVENUE']"
   ]
  },
  {
   "cell_type": "code",
   "execution_count": 54,
   "id": "b58c4f45",
   "metadata": {},
   "outputs": [
    {
     "data": {
      "text/plain": [
       "YEARMONTH\n",
       "2019-02    235.0\n",
       "2019-03    278.5\n",
       "2019-04    263.5\n",
       "2019-05    299.3\n",
       "2019-06    264.7\n",
       "Freq: M, Name: REVENUE, dtype: float64"
      ]
     },
     "execution_count": 54,
     "metadata": {},
     "output_type": "execute_result"
    }
   ],
   "source": [
    "trial_store_77_sales"
   ]
  },
  {
   "cell_type": "code",
   "execution_count": 55,
   "id": "d78eeadc",
   "metadata": {},
   "outputs": [],
   "source": [
    "trial_store_233_sales = metrics_trial_chip.loc[233,'REVENUE']"
   ]
  },
  {
   "cell_type": "code",
   "execution_count": 56,
   "id": "7b702c53",
   "metadata": {},
   "outputs": [
    {
     "data": {
      "text/plain": [
       "YEARMONTH\n",
       "2019-02    244.0\n",
       "2019-03    199.1\n",
       "2019-04    158.6\n",
       "2019-05    344.4\n",
       "2019-06    221.0\n",
       "Freq: M, Name: REVENUE, dtype: float64"
      ]
     },
     "execution_count": 56,
     "metadata": {},
     "output_type": "execute_result"
    }
   ],
   "source": [
    "trial_store_233_sales"
   ]
  },
  {
   "cell_type": "code",
   "execution_count": 57,
   "id": "9321d659",
   "metadata": {},
   "outputs": [
    {
     "data": {
      "image/png": "[encoded data removed]",
      "text/plain": [
       "<Figure size 500x400 with 1 Axes>"
      ]
     },
     "metadata": {},
     "output_type": "display_data"
    }
   ],
   "source": [
    "plt.figure(figsize = (5,4))\n",
    "sns.histplot(data = trial_store_77_sales, kde = True, stat = 'density')\n",
    "sns.histplot(data = trial_store_233_sales,kde = True, stat = 'density')\n",
    "plt.legend(labels = ['77','233'])\n",
    "plt.show()"
   ]
  },
  {
   "cell_type": "code",
   "execution_count": 58,
   "id": "dddb70ca",
   "metadata": {},
   "outputs": [],
   "source": [
    "trial_store_77_cus = metrics_trial_chip.loc[77,'TOT_CUS']\n",
    "trial_store_233_cus = metrics_trial_chip.loc[233,'TOT_CUS']"
   ]
  },
  {
   "cell_type": "code",
   "execution_count": 59,
   "id": "665dc2ae",
   "metadata": {},
   "outputs": [
    {
     "data": {
      "text/plain": [
       "YEARMONTH\n",
       "2019-02    45\n",
       "2019-03    50\n",
       "2019-04    47\n",
       "2019-05    55\n",
       "2019-06    41\n",
       "Freq: M, Name: TOT_CUS, dtype: int64"
      ]
     },
     "execution_count": 59,
     "metadata": {},
     "output_type": "execute_result"
    }
   ],
   "source": [
    "trial_store_77_cus"
   ]
  },
  {
   "cell_type": "code",
   "execution_count": 60,
   "id": "d20de6bf",
   "metadata": {},
   "outputs": [
    {
     "data": {
      "text/plain": [
       "YEARMONTH\n",
       "2019-02    45\n",
       "2019-03    40\n",
       "2019-04    30\n",
       "2019-05    57\n",
       "2019-06    41\n",
       "Freq: M, Name: TOT_CUS, dtype: int64"
      ]
     },
     "execution_count": 60,
     "metadata": {},
     "output_type": "execute_result"
    }
   ],
   "source": [
    "trial_store_233_cus"
   ]
  },
  {
   "cell_type": "code",
   "execution_count": 61,
   "id": "46bbd6e0",
   "metadata": {},
   "outputs": [
    {
     "data": {
      "image/png": "[encoded data removed]",
      "text/plain": [
       "<Figure size 500x400 with 1 Axes>"
      ]
     },
     "metadata": {},
     "output_type": "display_data"
    }
   ],
   "source": [
    "plt.figure(figsize = (5,4))\n",
    "sns.histplot(data =trial_store_77_cus, kde = True, stat= 'density')\n",
    "sns.histplot(data = trial_store_233_cus, kde = True, stat = 'density')\n",
    "plt.show()"
   ]
  },
  {
   "cell_type": "markdown",
   "id": "6a8fefb2",
   "metadata": {},
   "source": [
    "# Correlation with trial store: 86"
   ]
  },
  {
   "cell_type": "code",
   "execution_count": 62,
   "id": "ae0e6f84",
   "metadata": {},
   "outputs": [],
   "source": [
    "corr_86 = calc_corr(86)"
   ]
  },
  {
   "cell_type": "code",
   "execution_count": 63,
   "id": "23c93821",
   "metadata": {},
   "outputs": [],
   "source": [
    "corr_86 = corr_86[corr_86['MEAN_CORR'] > 0.7]"
   ]
  },
  {
   "cell_type": "code",
   "execution_count": 64,
   "id": "36e93047",
   "metadata": {
    "scrolled": false
   },
   "outputs": [
    {
     "data": {
      "image/png": "[encoded data removed]",
      "text/plain": [
       "<Figure size 1800x800 with 1 Axes>"
      ]
     },
     "metadata": {},
     "output_type": "display_data"
    }
   ],
   "source": [
    "corr_86.plot(kind = 'bar', figsize = (18,8))\n",
    "plt.tight_layout()\n",
    "plt.show()"
   ]
  },
  {
   "cell_type": "code",
   "execution_count": 65,
   "id": "b9eeaa25",
   "metadata": {},
   "outputs": [],
   "source": [
    "store_86_revenue = metrics_calc.loc[86,'REVENUE']"
   ]
  },
  {
   "cell_type": "code",
   "execution_count": 66,
   "id": "f17586e6",
   "metadata": {},
   "outputs": [
    {
     "data": {
      "text/plain": [
       "YEARMONTH\n",
       "2018-07    892.20\n",
       "2018-08    764.05\n",
       "2018-09    914.60\n",
       "2018-10    948.40\n",
       "2018-11    918.00\n",
       "2018-12    841.20\n",
       "2019-01    841.40\n",
       "Freq: M, Name: REVENUE, dtype: float64"
      ]
     },
     "execution_count": 66,
     "metadata": {},
     "output_type": "execute_result"
    }
   ],
   "source": [
    "store_86_revenue"
   ]
  },
  {
   "cell_type": "code",
   "execution_count": 67,
   "id": "ad8c17ff",
   "metadata": {},
   "outputs": [],
   "source": [
    "store_155_revenue = metrics_calc.loc[155,'REVENUE']"
   ]
  },
  {
   "cell_type": "code",
   "execution_count": 68,
   "id": "c5085a8a",
   "metadata": {},
   "outputs": [
    {
     "data": {
      "text/plain": [
       "YEARMONTH\n",
       "2018-07     924.6\n",
       "2018-08     782.7\n",
       "2018-09    1014.4\n",
       "2018-10     963.8\n",
       "2018-11     898.8\n",
       "2018-12     849.8\n",
       "2019-01     874.6\n",
       "Freq: M, Name: REVENUE, dtype: float64"
      ]
     },
     "execution_count": 68,
     "metadata": {},
     "output_type": "execute_result"
    }
   ],
   "source": [
    "store_155_revenue"
   ]
  },
  {
   "cell_type": "code",
   "execution_count": 69,
   "id": "55b225e2",
   "metadata": {},
   "outputs": [
    {
     "data": {
      "image/png": "[encoded data removed]",
      "text/plain": [
       "<Figure size 500x400 with 1 Axes>"
      ]
     },
     "metadata": {},
     "output_type": "display_data"
    }
   ],
   "source": [
    "plt.figure(figsize = (5,4))\n",
    "sns.histplot(data = store_86_revenue , kde = True, stat = 'density')\n",
    "sns.histplot(data = store_155_revenue ,kde = True, stat = 'density')\n",
    "plt.legend(labels = ['86','155'])\n",
    "plt.show()"
   ]
  },
  {
   "cell_type": "code",
   "execution_count": 70,
   "id": "495ff0b3",
   "metadata": {},
   "outputs": [
    {
     "data": {
      "image/png": "[encoded data removed]",
      "text/plain": [
       "<Figure size 640x480 with 1 Axes>"
      ]
     },
     "metadata": {},
     "output_type": "display_data"
    }
   ],
   "source": [
    "store_86_revenue.plot(kind = 'bar', color = 'r')\n",
    "store_155_revenue.plot(kind = 'bar', color = 'b', alpha = 0.5)\n",
    "plt.legend(labels = ['86','155'])\n",
    "plt.show()"
   ]
  },
  {
   "cell_type": "code",
   "execution_count": 71,
   "id": "da8ea23f",
   "metadata": {},
   "outputs": [],
   "source": [
    "store_86_cus = metrics_calc.loc[86, 'TOT_CUS']"
   ]
  },
  {
   "cell_type": "code",
   "execution_count": 72,
   "id": "d8379d8d",
   "metadata": {},
   "outputs": [
    {
     "data": {
      "text/plain": [
       "YEARMONTH\n",
       "2018-07     99\n",
       "2018-08     94\n",
       "2018-09    103\n",
       "2018-10    109\n",
       "2018-11    100\n",
       "2018-12     98\n",
       "2019-01     94\n",
       "Freq: M, Name: TOT_CUS, dtype: int64"
      ]
     },
     "execution_count": 72,
     "metadata": {},
     "output_type": "execute_result"
    }
   ],
   "source": [
    "store_86_cus"
   ]
  },
  {
   "cell_type": "code",
   "execution_count": 73,
   "id": "dce4e774",
   "metadata": {},
   "outputs": [],
   "source": [
    "store_155_cus = metrics_calc.loc[155,'TOT_CUS']"
   ]
  },
  {
   "cell_type": "code",
   "execution_count": 74,
   "id": "7cbf22eb",
   "metadata": {},
   "outputs": [
    {
     "data": {
      "text/plain": [
       "YEARMONTH\n",
       "2018-07    101\n",
       "2018-08     91\n",
       "2018-09    103\n",
       "2018-10    108\n",
       "2018-11    101\n",
       "2018-12     97\n",
       "2019-01     96\n",
       "Freq: M, Name: TOT_CUS, dtype: int64"
      ]
     },
     "execution_count": 74,
     "metadata": {},
     "output_type": "execute_result"
    }
   ],
   "source": [
    "store_155_cus"
   ]
  },
  {
   "cell_type": "code",
   "execution_count": 75,
   "id": "e176e9b5",
   "metadata": {},
   "outputs": [
    {
     "data": {
      "image/png": "[encoded data removed]",
      "text/plain": [
       "<Figure size 500x400 with 1 Axes>"
      ]
     },
     "metadata": {},
     "output_type": "display_data"
    }
   ],
   "source": [
    "plt.figure(figsize = (5,4))\n",
    "sns.histplot(data = store_86_cus, kde = True, stat = 'density')\n",
    "sns.histplot(data = store_155_cus, kde = True, stat = 'density')\n",
    "plt.legend(labels = ['86','155'])\n",
    "plt.show()"
   ]
  },
  {
   "cell_type": "code",
   "execution_count": 76,
   "id": "dd098e04",
   "metadata": {},
   "outputs": [
    {
     "data": {
      "image/png": "[encoded data removed]",
      "text/plain": [
       "<Figure size 640x480 with 1 Axes>"
      ]
     },
     "metadata": {},
     "output_type": "display_data"
    }
   ],
   "source": [
    "store_86_cus.plot(kind = 'bar', color = 'r')\n",
    "store_155_cus.plot(kind = 'bar', color = 'b', alpha = 0.5)\n",
    "plt.legend(labels = ['86','155'])\n",
    "plt.show()"
   ]
  },
  {
   "cell_type": "code",
   "execution_count": 77,
   "id": "d45c7796",
   "metadata": {},
   "outputs": [],
   "source": [
    "results_86 = pd.DataFrame(index = compare, columns =['ks_statistic', 'p_value'])\n",
    "\n",
    "for c in compare:\n",
    "    group_86 = metrics_calc.loc[86][c]\n",
    "    group_155 = metrics_calc.loc[155][c]\n",
    "    ks_stat, p_value = ks_2samp(group_86, group_155)\n",
    "    results_86.loc[c] = [ks_stat, p_value]"
   ]
  },
  {
   "cell_type": "code",
   "execution_count": 78,
   "id": "fab76de8",
   "metadata": {},
   "outputs": [
    {
     "data": {
      "text/html": [
       "<div>\n",
       "<style scoped>\n",
       "    .dataframe tbody tr th:only-of-type {\n",
       "        vertical-align: middle;\n",
       "    }\n",
       "\n",
       "    .dataframe tbody tr th {\n",
       "        vertical-align: top;\n",
       "    }\n",
       "\n",
       "    .dataframe thead th {\n",
       "        text-align: right;\n",
       "    }\n",
       "</style>\n",
       "<table border=\"1\" class=\"dataframe\">\n",
       "  <thead>\n",
       "    <tr style=\"text-align: right;\">\n",
       "      <th></th>\n",
       "      <th>ks_statistic</th>\n",
       "      <th>p_value</th>\n",
       "    </tr>\n",
       "  </thead>\n",
       "  <tbody>\n",
       "    <tr>\n",
       "      <th>TOT_CUS</th>\n",
       "      <td>0.285714</td>\n",
       "      <td>0.962704</td>\n",
       "    </tr>\n",
       "    <tr>\n",
       "      <th>REVENUE</th>\n",
       "      <td>0.285714</td>\n",
       "      <td>0.962704</td>\n",
       "    </tr>\n",
       "  </tbody>\n",
       "</table>\n",
       "</div>"
      ],
      "text/plain": [
       "        ks_statistic   p_value\n",
       "TOT_CUS     0.285714  0.962704\n",
       "REVENUE     0.285714  0.962704"
      ]
     },
     "execution_count": 78,
     "metadata": {},
     "output_type": "execute_result"
    }
   ],
   "source": [
    "results_86"
   ]
  },
  {
   "cell_type": "code",
   "execution_count": 79,
   "id": "b3b4e51f",
   "metadata": {},
   "outputs": [
    {
     "name": "stderr",
     "output_type": "stream",
     "text": [
      "C:\\Users\\truon\\AppData\\Local\\Temp\\ipykernel_19856\\100187721.py:6: RuntimeWarning: ks_2samp: Exact calculation unsuccessful. Switching to method=asymp.\n",
      "  ks_stat, p_value = ks_2samp(group_86, group_155)\n"
     ]
    }
   ],
   "source": [
    "results_trial_86 = pd.DataFrame(index = compare, columns =['ks_statistic', 'p_value'])\n",
    "\n",
    "for d in compare:\n",
    "    group_86 = metrics_trial_chip.loc[86][d]\n",
    "    group_155 = metrics_trial_chip.loc[155][d]\n",
    "    ks_stat, p_value = ks_2samp(group_86, group_155)\n",
    "    results_trial_86.loc[d] = [ks_stat, p_value]"
   ]
  },
  {
   "cell_type": "code",
   "execution_count": 80,
   "id": "b400c190",
   "metadata": {},
   "outputs": [
    {
     "data": {
      "text/html": [
       "<div>\n",
       "<style scoped>\n",
       "    .dataframe tbody tr th:only-of-type {\n",
       "        vertical-align: middle;\n",
       "    }\n",
       "\n",
       "    .dataframe tbody tr th {\n",
       "        vertical-align: top;\n",
       "    }\n",
       "\n",
       "    .dataframe thead th {\n",
       "        text-align: right;\n",
       "    }\n",
       "</style>\n",
       "<table border=\"1\" class=\"dataframe\">\n",
       "  <thead>\n",
       "    <tr style=\"text-align: right;\">\n",
       "      <th></th>\n",
       "      <th>ks_statistic</th>\n",
       "      <th>p_value</th>\n",
       "    </tr>\n",
       "  </thead>\n",
       "  <tbody>\n",
       "    <tr>\n",
       "      <th>TOT_CUS</th>\n",
       "      <td>0.6</td>\n",
       "      <td>0.357143</td>\n",
       "    </tr>\n",
       "    <tr>\n",
       "      <th>REVENUE</th>\n",
       "      <td>0.2</td>\n",
       "      <td>1.0</td>\n",
       "    </tr>\n",
       "  </tbody>\n",
       "</table>\n",
       "</div>"
      ],
      "text/plain": [
       "        ks_statistic   p_value\n",
       "TOT_CUS          0.6  0.357143\n",
       "REVENUE          0.2       1.0"
      ]
     },
     "execution_count": 80,
     "metadata": {},
     "output_type": "execute_result"
    }
   ],
   "source": [
    "results_trial_86"
   ]
  },
  {
   "cell_type": "code",
   "execution_count": 81,
   "id": "ea736e5c",
   "metadata": {},
   "outputs": [],
   "source": [
    "trial_store_86_revenue = metrics_trial_chip.loc[86,'REVENUE']"
   ]
  },
  {
   "cell_type": "code",
   "execution_count": 82,
   "id": "8b06e478",
   "metadata": {},
   "outputs": [
    {
     "data": {
      "text/plain": [
       "YEARMONTH\n",
       "2019-02     913.2\n",
       "2019-03    1026.8\n",
       "2019-04     848.2\n",
       "2019-05     889.3\n",
       "2019-06     838.0\n",
       "Freq: M, Name: REVENUE, dtype: float64"
      ]
     },
     "execution_count": 82,
     "metadata": {},
     "output_type": "execute_result"
    }
   ],
   "source": [
    "trial_store_86_revenue"
   ]
  },
  {
   "cell_type": "code",
   "execution_count": 83,
   "id": "541d4792",
   "metadata": {},
   "outputs": [],
   "source": [
    "trial_store_155_revenue =  metrics_trial_chip.loc[155,'REVENUE']"
   ]
  },
  {
   "cell_type": "code",
   "execution_count": 84,
   "id": "766a56f5",
   "metadata": {},
   "outputs": [
    {
     "data": {
      "text/plain": [
       "YEARMONTH\n",
       "2019-02    891.20\n",
       "2019-03    804.40\n",
       "2019-04    844.60\n",
       "2019-05    922.85\n",
       "2019-06    857.20\n",
       "Freq: M, Name: REVENUE, dtype: float64"
      ]
     },
     "execution_count": 84,
     "metadata": {},
     "output_type": "execute_result"
    }
   ],
   "source": [
    "trial_store_155_revenue"
   ]
  },
  {
   "cell_type": "code",
   "execution_count": 85,
   "id": "eade20ef",
   "metadata": {},
   "outputs": [
    {
     "data": {
      "image/png": "[encoded data removed]",
      "text/plain": [
       "<Figure size 500x400 with 1 Axes>"
      ]
     },
     "metadata": {},
     "output_type": "display_data"
    }
   ],
   "source": [
    "plt.figure(figsize = (5,4))\n",
    "sns.histplot(data = trial_store_86_revenue, kde = True, stat = 'density')\n",
    "sns.histplot(data = trial_store_155_revenue, kde = True, stat = 'density')\n",
    "plt.legend(labels = ['86','155'])\n",
    "plt.show()"
   ]
  },
  {
   "cell_type": "code",
   "execution_count": 86,
   "id": "a0a26227",
   "metadata": {},
   "outputs": [],
   "source": [
    "trial_store_86_cus = metrics_trial_chip.loc[86,'TOT_CUS']\n",
    "trial_store_155_cus = metrics_trial_chip.loc[155,'TOT_CUS']"
   ]
  },
  {
   "cell_type": "code",
   "execution_count": 87,
   "id": "85f127e3",
   "metadata": {},
   "outputs": [
    {
     "data": {
      "text/plain": [
       "YEARMONTH\n",
       "2019-02    107\n",
       "2019-03    115\n",
       "2019-04    105\n",
       "2019-05    104\n",
       "2019-06     98\n",
       "Freq: M, Name: TOT_CUS, dtype: int64"
      ]
     },
     "execution_count": 87,
     "metadata": {},
     "output_type": "execute_result"
    }
   ],
   "source": [
    "trial_store_86_cus"
   ]
  },
  {
   "cell_type": "code",
   "execution_count": 88,
   "id": "35707ebc",
   "metadata": {},
   "outputs": [
    {
     "data": {
      "text/plain": [
       "YEARMONTH\n",
       "2019-02     95\n",
       "2019-03     94\n",
       "2019-04     99\n",
       "2019-05    106\n",
       "2019-06     95\n",
       "Freq: M, Name: TOT_CUS, dtype: int64"
      ]
     },
     "execution_count": 88,
     "metadata": {},
     "output_type": "execute_result"
    }
   ],
   "source": [
    "trial_store_155_cus"
   ]
  },
  {
   "cell_type": "code",
   "execution_count": 89,
   "id": "333cfff4",
   "metadata": {},
   "outputs": [
    {
     "data": {
      "image/png": "[encoded data removed]",
      "text/plain": [
       "<Figure size 500x400 with 1 Axes>"
      ]
     },
     "metadata": {},
     "output_type": "display_data"
    }
   ],
   "source": [
    "plt.figure(figsize = (5,4))\n",
    "sns.histplot(data = trial_store_86_cus, kde = True, stat = 'density')\n",
    "sns.histplot(data = trial_store_155_cus, kde = True, stat = 'density')\n",
    "plt.legend(labels = ['86','155'])\n",
    "plt.show()"
   ]
  },
  {
   "cell_type": "markdown",
   "id": "ddd7e1a9",
   "metadata": {},
   "source": [
    "# Correlation with trial store: 88"
   ]
  },
  {
   "cell_type": "code",
   "execution_count": 90,
   "id": "ab31d38e",
   "metadata": {},
   "outputs": [],
   "source": [
    "corr_88 = calc_corr(88)"
   ]
  },
  {
   "cell_type": "code",
   "execution_count": 91,
   "id": "f8c65c53",
   "metadata": {},
   "outputs": [],
   "source": [
    "corr_88 = corr_88[corr_88['MEAN_CORR'] > 0.6]"
   ]
  },
  {
   "cell_type": "code",
   "execution_count": 92,
   "id": "423c4274",
   "metadata": {},
   "outputs": [
    {
     "data": {
      "text/html": [
       "<div>\n",
       "<style scoped>\n",
       "    .dataframe tbody tr th:only-of-type {\n",
       "        vertical-align: middle;\n",
       "    }\n",
       "\n",
       "    .dataframe tbody tr th {\n",
       "        vertical-align: top;\n",
       "    }\n",
       "\n",
       "    .dataframe thead th {\n",
       "        text-align: right;\n",
       "    }\n",
       "</style>\n",
       "<table border=\"1\" class=\"dataframe\">\n",
       "  <thead>\n",
       "    <tr style=\"text-align: right;\">\n",
       "      <th></th>\n",
       "      <th>REVENUE</th>\n",
       "      <th>TOT_CUS</th>\n",
       "      <th>MEAN_CORR</th>\n",
       "    </tr>\n",
       "    <tr>\n",
       "      <th>STORE_NBR</th>\n",
       "      <th></th>\n",
       "      <th></th>\n",
       "      <th></th>\n",
       "    </tr>\n",
       "  </thead>\n",
       "  <tbody>\n",
       "    <tr>\n",
       "      <th>88</th>\n",
       "      <td>1.000000</td>\n",
       "      <td>1.000000</td>\n",
       "      <td>1.000000</td>\n",
       "    </tr>\n",
       "    <tr>\n",
       "      <th>178</th>\n",
       "      <td>0.731857</td>\n",
       "      <td>0.939466</td>\n",
       "      <td>0.835661</td>\n",
       "    </tr>\n",
       "    <tr>\n",
       "      <th>14</th>\n",
       "      <td>0.698557</td>\n",
       "      <td>0.942976</td>\n",
       "      <td>0.820767</td>\n",
       "    </tr>\n",
       "    <tr>\n",
       "      <th>204</th>\n",
       "      <td>0.885774</td>\n",
       "      <td>0.550263</td>\n",
       "      <td>0.718018</td>\n",
       "    </tr>\n",
       "    <tr>\n",
       "      <th>134</th>\n",
       "      <td>0.864293</td>\n",
       "      <td>0.508880</td>\n",
       "      <td>0.686587</td>\n",
       "    </tr>\n",
       "    <tr>\n",
       "      <th>113</th>\n",
       "      <td>0.495763</td>\n",
       "      <td>0.862632</td>\n",
       "      <td>0.679198</td>\n",
       "    </tr>\n",
       "    <tr>\n",
       "      <th>253</th>\n",
       "      <td>0.811838</td>\n",
       "      <td>0.500962</td>\n",
       "      <td>0.656400</td>\n",
       "    </tr>\n",
       "    <tr>\n",
       "      <th>187</th>\n",
       "      <td>0.599076</td>\n",
       "      <td>0.671264</td>\n",
       "      <td>0.635170</td>\n",
       "    </tr>\n",
       "    <tr>\n",
       "      <th>69</th>\n",
       "      <td>0.450029</td>\n",
       "      <td>0.815792</td>\n",
       "      <td>0.632910</td>\n",
       "    </tr>\n",
       "    <tr>\n",
       "      <th>237</th>\n",
       "      <td>0.308479</td>\n",
       "      <td>0.947326</td>\n",
       "      <td>0.627903</td>\n",
       "    </tr>\n",
       "  </tbody>\n",
       "</table>\n",
       "</div>"
      ],
      "text/plain": [
       "            REVENUE   TOT_CUS  MEAN_CORR\n",
       "STORE_NBR                               \n",
       "88         1.000000  1.000000   1.000000\n",
       "178        0.731857  0.939466   0.835661\n",
       "14         0.698557  0.942976   0.820767\n",
       "204        0.885774  0.550263   0.718018\n",
       "134        0.864293  0.508880   0.686587\n",
       "113        0.495763  0.862632   0.679198\n",
       "253        0.811838  0.500962   0.656400\n",
       "187        0.599076  0.671264   0.635170\n",
       "69         0.450029  0.815792   0.632910\n",
       "237        0.308479  0.947326   0.627903"
      ]
     },
     "execution_count": 92,
     "metadata": {},
     "output_type": "execute_result"
    }
   ],
   "source": [
    "corr_88"
   ]
  },
  {
   "cell_type": "code",
   "execution_count": 93,
   "id": "5148ff31",
   "metadata": {},
   "outputs": [
    {
     "data": {
      "image/png": "[encoded data removed]",
      "text/plain": [
       "<Figure size 1800x800 with 1 Axes>"
      ]
     },
     "metadata": {},
     "output_type": "display_data"
    }
   ],
   "source": [
    "corr_88.plot(kind = 'bar', figsize = (18,8))\n",
    "plt.tight_layout()\n",
    "plt.show()"
   ]
  },
  {
   "cell_type": "code",
   "execution_count": 94,
   "id": "eddba269",
   "metadata": {},
   "outputs": [],
   "source": [
    "store_88_revenue = metrics_calc.loc[88, 'REVENUE']\n",
    "store_237_revenue = metrics_calc.loc[237,'REVENUE']"
   ]
  },
  {
   "cell_type": "code",
   "execution_count": 95,
   "id": "e29d490b",
   "metadata": {},
   "outputs": [
    {
     "data": {
      "text/plain": [
       "YEARMONTH\n",
       "2018-07    1310.0\n",
       "2018-08    1323.8\n",
       "2018-09    1423.0\n",
       "2018-10    1352.4\n",
       "2018-11    1382.8\n",
       "2018-12    1325.2\n",
       "2019-01    1266.4\n",
       "Freq: M, Name: REVENUE, dtype: float64"
      ]
     },
     "execution_count": 95,
     "metadata": {},
     "output_type": "execute_result"
    }
   ],
   "source": [
    "store_88_revenue"
   ]
  },
  {
   "cell_type": "code",
   "execution_count": 96,
   "id": "9c01bafa",
   "metadata": {},
   "outputs": [
    {
     "data": {
      "text/plain": [
       "YEARMONTH\n",
       "2018-07    1448.4\n",
       "2018-08    1367.8\n",
       "2018-09    1322.2\n",
       "2018-10    1348.3\n",
       "2018-11    1397.6\n",
       "2018-12    1265.0\n",
       "2019-01    1219.7\n",
       "Freq: M, Name: REVENUE, dtype: float64"
      ]
     },
     "execution_count": 96,
     "metadata": {},
     "output_type": "execute_result"
    }
   ],
   "source": [
    "store_237_revenue"
   ]
  },
  {
   "cell_type": "code",
   "execution_count": 97,
   "id": "4d79d7ca",
   "metadata": {},
   "outputs": [
    {
     "data": {
      "image/png": "[encoded data removed]",
      "text/plain": [
       "<Figure size 500x400 with 1 Axes>"
      ]
     },
     "metadata": {},
     "output_type": "display_data"
    }
   ],
   "source": [
    "plt.figure(figsize = (5,4))\n",
    "sns.histplot(data = store_88_revenue, kde = True, stat = 'density')\n",
    "sns.histplot(data = store_237_revenue, kde = True, stat = 'density')\n",
    "plt.legend(labels = ['88','237'])\n",
    "plt.show()"
   ]
  },
  {
   "cell_type": "code",
   "execution_count": 98,
   "id": "d80e35d6",
   "metadata": {},
   "outputs": [
    {
     "data": {
      "image/png": "[encoded data removed]",
      "text/plain": [
       "<Figure size 640x480 with 1 Axes>"
      ]
     },
     "metadata": {},
     "output_type": "display_data"
    }
   ],
   "source": [
    "store_88_revenue.plot(kind = 'bar', color = 'r')\n",
    "store_237_revenue.plot(kind = 'bar', color = 'b', alpha = 0.5)\n",
    "plt.legend(labels = ['88','237'])\n",
    "plt.show()"
   ]
  },
  {
   "cell_type": "code",
   "execution_count": 99,
   "id": "a90cd3b8",
   "metadata": {},
   "outputs": [],
   "source": [
    "store_88_cus = metrics_calc.loc[88,'TOT_CUS']\n",
    "store_237_cus = metrics_calc.loc[237,'TOT_CUS']"
   ]
  },
  {
   "cell_type": "code",
   "execution_count": 100,
   "id": "2013fb15",
   "metadata": {},
   "outputs": [
    {
     "data": {
      "text/plain": [
       "YEARMONTH\n",
       "2018-07    129\n",
       "2018-08    131\n",
       "2018-09    124\n",
       "2018-10    123\n",
       "2018-11    130\n",
       "2018-12    126\n",
       "2019-01    117\n",
       "Freq: M, Name: TOT_CUS, dtype: int64"
      ]
     },
     "execution_count": 100,
     "metadata": {},
     "output_type": "execute_result"
    }
   ],
   "source": [
    "store_88_cus"
   ]
  },
  {
   "cell_type": "code",
   "execution_count": 101,
   "id": "b2f62fce",
   "metadata": {},
   "outputs": [
    {
     "data": {
      "text/plain": [
       "YEARMONTH\n",
       "2018-07    128\n",
       "2018-08    135\n",
       "2018-09    126\n",
       "2018-10    123\n",
       "2018-11    132\n",
       "2018-12    124\n",
       "2019-01    117\n",
       "Freq: M, Name: TOT_CUS, dtype: int64"
      ]
     },
     "execution_count": 101,
     "metadata": {},
     "output_type": "execute_result"
    }
   ],
   "source": [
    "store_237_cus"
   ]
  },
  {
   "cell_type": "code",
   "execution_count": 102,
   "id": "48ddda7f",
   "metadata": {},
   "outputs": [
    {
     "data": {
      "image/png": "[encoded data removed]",
      "text/plain": [
       "<Figure size 500x400 with 1 Axes>"
      ]
     },
     "metadata": {},
     "output_type": "display_data"
    }
   ],
   "source": [
    "plt.figure(figsize = (5,4))\n",
    "sns.histplot(data = store_88_cus, kde = True, stat = 'density')\n",
    "sns.histplot(data = store_237_cus, kde = True, stat = 'density')\n",
    "plt.legend(labels = ['88','237'])\n",
    "plt.show()"
   ]
  },
  {
   "cell_type": "code",
   "execution_count": 103,
   "id": "e116c378",
   "metadata": {},
   "outputs": [
    {
     "data": {
      "image/png": "[encoded data removed]",
      "text/plain": [
       "<Figure size 640x480 with 1 Axes>"
      ]
     },
     "metadata": {},
     "output_type": "display_data"
    }
   ],
   "source": [
    "store_88_cus.plot(kind = 'bar', color = 'r')\n",
    "store_237_cus.plot(kind = 'bar', color = 'b', alpha = 0.5)\n",
    "plt.legend(labels = ['88','237'])\n",
    "plt.show()"
   ]
  },
  {
   "cell_type": "code",
   "execution_count": 104,
   "id": "c8963311",
   "metadata": {},
   "outputs": [],
   "source": [
    "results_88 = pd.DataFrame(index = compare, columns =['ks_statistic', 'p_value'])\n",
    "\n",
    "for e in compare:\n",
    "    group_88 = metrics_calc.loc[88][e]\n",
    "    group_237 = metrics_calc.loc[237][e]\n",
    "    ks_stat, p_value = ks_2samp(group_88, group_237)\n",
    "    results_88.loc[e] = [ks_stat, p_value]"
   ]
  },
  {
   "cell_type": "code",
   "execution_count": 105,
   "id": "b4d05abe",
   "metadata": {},
   "outputs": [
    {
     "data": {
      "text/html": [
       "<div>\n",
       "<style scoped>\n",
       "    .dataframe tbody tr th:only-of-type {\n",
       "        vertical-align: middle;\n",
       "    }\n",
       "\n",
       "    .dataframe tbody tr th {\n",
       "        vertical-align: top;\n",
       "    }\n",
       "\n",
       "    .dataframe thead th {\n",
       "        text-align: right;\n",
       "    }\n",
       "</style>\n",
       "<table border=\"1\" class=\"dataframe\">\n",
       "  <thead>\n",
       "    <tr style=\"text-align: right;\">\n",
       "      <th></th>\n",
       "      <th>ks_statistic</th>\n",
       "      <th>p_value</th>\n",
       "    </tr>\n",
       "  </thead>\n",
       "  <tbody>\n",
       "    <tr>\n",
       "      <th>TOT_CUS</th>\n",
       "      <td>0.285714</td>\n",
       "      <td>0.962704</td>\n",
       "    </tr>\n",
       "    <tr>\n",
       "      <th>REVENUE</th>\n",
       "      <td>0.285714</td>\n",
       "      <td>0.962704</td>\n",
       "    </tr>\n",
       "  </tbody>\n",
       "</table>\n",
       "</div>"
      ],
      "text/plain": [
       "        ks_statistic   p_value\n",
       "TOT_CUS     0.285714  0.962704\n",
       "REVENUE     0.285714  0.962704"
      ]
     },
     "execution_count": 105,
     "metadata": {},
     "output_type": "execute_result"
    }
   ],
   "source": [
    "results_88 "
   ]
  },
  {
   "cell_type": "code",
   "execution_count": 106,
   "id": "23872087",
   "metadata": {},
   "outputs": [],
   "source": [
    "results_trial_88 = pd.DataFrame(index = compare, columns =['ks_statistic', 'p_value'])\n",
    "\n",
    "for f in compare:\n",
    "    group_88 = metrics_trial_chip.loc[88][f]\n",
    "    group_237 = metrics_trial_chip.loc[237][f]\n",
    "    ks_stat, p_value = ks_2samp(group_88, group_237)\n",
    "    results_trial_88.loc[f] = [ks_stat, p_value]"
   ]
  },
  {
   "cell_type": "code",
   "execution_count": 107,
   "id": "2f84057f",
   "metadata": {},
   "outputs": [
    {
     "data": {
      "text/html": [
       "<div>\n",
       "<style scoped>\n",
       "    .dataframe tbody tr th:only-of-type {\n",
       "        vertical-align: middle;\n",
       "    }\n",
       "\n",
       "    .dataframe tbody tr th {\n",
       "        vertical-align: top;\n",
       "    }\n",
       "\n",
       "    .dataframe thead th {\n",
       "        text-align: right;\n",
       "    }\n",
       "</style>\n",
       "<table border=\"1\" class=\"dataframe\">\n",
       "  <thead>\n",
       "    <tr style=\"text-align: right;\">\n",
       "      <th></th>\n",
       "      <th>ks_statistic</th>\n",
       "      <th>p_value</th>\n",
       "    </tr>\n",
       "  </thead>\n",
       "  <tbody>\n",
       "    <tr>\n",
       "      <th>TOT_CUS</th>\n",
       "      <td>0.6</td>\n",
       "      <td>0.357143</td>\n",
       "    </tr>\n",
       "    <tr>\n",
       "      <th>REVENUE</th>\n",
       "      <td>0.8</td>\n",
       "      <td>0.079365</td>\n",
       "    </tr>\n",
       "  </tbody>\n",
       "</table>\n",
       "</div>"
      ],
      "text/plain": [
       "        ks_statistic   p_value\n",
       "TOT_CUS          0.6  0.357143\n",
       "REVENUE          0.8  0.079365"
      ]
     },
     "execution_count": 107,
     "metadata": {},
     "output_type": "execute_result"
    }
   ],
   "source": [
    "results_trial_88"
   ]
  },
  {
   "cell_type": "code",
   "execution_count": 108,
   "id": "fb1cb0ef",
   "metadata": {},
   "outputs": [],
   "source": [
    "trial_store_88_revenue = metrics_trial_chip.loc[88, 'REVENUE']\n",
    "trial_store_237_revenue = metrics_trial_chip.loc[237, 'REVENUE']"
   ]
  },
  {
   "cell_type": "code",
   "execution_count": 109,
   "id": "a9a942a0",
   "metadata": {},
   "outputs": [
    {
     "data": {
      "text/plain": [
       "YEARMONTH\n",
       "2019-02    1370.20\n",
       "2019-03    1477.20\n",
       "2019-04    1439.40\n",
       "2019-05    1308.25\n",
       "2019-06    1354.60\n",
       "Freq: M, Name: REVENUE, dtype: float64"
      ]
     },
     "execution_count": 109,
     "metadata": {},
     "output_type": "execute_result"
    }
   ],
   "source": [
    "trial_store_88_revenue"
   ]
  },
  {
   "cell_type": "code",
   "execution_count": 110,
   "id": "fe0af073",
   "metadata": {},
   "outputs": [
    {
     "data": {
      "text/plain": [
       "YEARMONTH\n",
       "2019-02    1404.8\n",
       "2019-03    1208.2\n",
       "2019-04    1204.6\n",
       "2019-05    1199.3\n",
       "2019-06    1153.6\n",
       "Freq: M, Name: REVENUE, dtype: float64"
      ]
     },
     "execution_count": 110,
     "metadata": {},
     "output_type": "execute_result"
    }
   ],
   "source": [
    "trial_store_237_revenue"
   ]
  },
  {
   "cell_type": "code",
   "execution_count": 111,
   "id": "d58ed234",
   "metadata": {},
   "outputs": [
    {
     "data": {
      "image/png": "[encoded data removed]",
      "text/plain": [
       "<Figure size 500x400 with 1 Axes>"
      ]
     },
     "metadata": {},
     "output_type": "display_data"
    }
   ],
   "source": [
    "plt.figure(figsize = (5,4))\n",
    "sns.histplot(data = trial_store_88_revenue, kde = True, stat = 'density')\n",
    "sns.histplot(data = trial_store_237_revenue, kde = True, stat = 'density')\n",
    "plt.legend(labels = ['88','237'])\n",
    "plt.show()"
   ]
  },
  {
   "cell_type": "code",
   "execution_count": 112,
   "id": "fc5380c8",
   "metadata": {},
   "outputs": [],
   "source": [
    "trial_store_88_cus= metrics_trial_chip.loc[88, 'TOT_CUS']\n",
    "trial_store_237_cus = metrics_trial_chip.loc[237, 'TOT_CUS']"
   ]
  },
  {
   "cell_type": "code",
   "execution_count": 113,
   "id": "c73b89fd",
   "metadata": {},
   "outputs": [
    {
     "data": {
      "text/plain": [
       "YEARMONTH\n",
       "2019-02    124\n",
       "2019-03    134\n",
       "2019-04    128\n",
       "2019-05    128\n",
       "2019-06    121\n",
       "Freq: M, Name: TOT_CUS, dtype: int64"
      ]
     },
     "execution_count": 113,
     "metadata": {},
     "output_type": "execute_result"
    }
   ],
   "source": [
    "trial_store_88_cus"
   ]
  },
  {
   "cell_type": "code",
   "execution_count": 114,
   "id": "7837bce3",
   "metadata": {},
   "outputs": [
    {
     "data": {
      "text/plain": [
       "YEARMONTH\n",
       "2019-02    126\n",
       "2019-03    119\n",
       "2019-04    120\n",
       "2019-05    129\n",
       "2019-06    119\n",
       "Freq: M, Name: TOT_CUS, dtype: int64"
      ]
     },
     "execution_count": 114,
     "metadata": {},
     "output_type": "execute_result"
    }
   ],
   "source": [
    "trial_store_237_cus"
   ]
  },
  {
   "cell_type": "code",
   "execution_count": 115,
   "id": "2d991ff8",
   "metadata": {},
   "outputs": [
    {
     "data": {
      "image/png": "[encoded data removed]",
      "text/plain": [
       "<Figure size 500x400 with 1 Axes>"
      ]
     },
     "metadata": {},
     "output_type": "display_data"
    }
   ],
   "source": [
    "plt.figure(figsize = (5,4))\n",
    "sns.histplot(data = trial_store_88_cus, kde = True, stat = 'density')\n",
    "sns.histplot(data = trial_store_237_cus, kde = True, stat = 'density')\n",
    "plt.legend(labels = ['88','237'])\n",
    "plt.show()"
   ]
  }
 ],
 "metadata": {
  "kernelspec": {
   "display_name": "Python 3 (ipykernel)",
   "language": "python",
   "name": "python3"
  },
  "language_info": {
   "codemirror_mode": {
    "name": "ipython",
    "version": 3
   },
   "file_extension": ".py",
   "mimetype": "text/x-python",
   "name": "python",
   "nbconvert_exporter": "python",
   "pygments_lexer": "ipython3",
   "version": "3.10.9"
  }
 },
 "nbformat": 4,
 "nbformat_minor": 5
}
